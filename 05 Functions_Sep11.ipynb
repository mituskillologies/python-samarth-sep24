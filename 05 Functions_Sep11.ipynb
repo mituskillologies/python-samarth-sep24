{
 "cells": [
  {
   "cell_type": "code",
   "execution_count": 5,
   "id": "02fce760-7061-4f07-b3b3-f095261b6b77",
   "metadata": {},
   "outputs": [],
   "source": [
    "def show():           # function definition\n",
    "    print('hello')\n",
    "    print('ok')\n",
    "    print('Goodbye')"
   ]
  },
  {
   "cell_type": "code",
   "execution_count": 7,
   "id": "4c67899c-4440-40e6-bf4b-26872623d7c8",
   "metadata": {},
   "outputs": [
    {
     "name": "stdout",
     "output_type": "stream",
     "text": [
      "hello\n",
      "ok\n",
      "Goodbye\n"
     ]
    }
   ],
   "source": [
    "# function call \n",
    "\n",
    "show()"
   ]
  },
  {
   "cell_type": "code",
   "execution_count": 9,
   "id": "c047855b-535e-4663-8ef2-7f27f6658ebc",
   "metadata": {},
   "outputs": [],
   "source": [
    "# function with parameter"
   ]
  },
  {
   "cell_type": "code",
   "execution_count": 11,
   "id": "42e45fa1-0752-4f5d-8c46-a64619626dde",
   "metadata": {},
   "outputs": [],
   "source": [
    "def sq(a):\n",
    "    print('square is', a * a)"
   ]
  },
  {
   "cell_type": "code",
   "execution_count": 15,
   "id": "7ea5d526-1902-4976-9ff9-eb49f47921e5",
   "metadata": {},
   "outputs": [
    {
     "name": "stdout",
     "output_type": "stream",
     "text": [
      "square is 25\n"
     ]
    }
   ],
   "source": [
    "sq(5)"
   ]
  },
  {
   "cell_type": "code",
   "execution_count": 17,
   "id": "6d98f36f-5814-4f42-a70a-be4c10681dee",
   "metadata": {},
   "outputs": [],
   "source": [
    "# lambda function\n",
    "\n",
    "cube = lambda x: x ** 3"
   ]
  },
  {
   "cell_type": "code",
   "execution_count": 19,
   "id": "7006a4e4-52ab-4df3-be18-8646b6ab7261",
   "metadata": {},
   "outputs": [
    {
     "data": {
      "text/plain": [
       "27"
      ]
     },
     "execution_count": 19,
     "metadata": {},
     "output_type": "execute_result"
    }
   ],
   "source": [
    "cube(3)"
   ]
  },
  {
   "cell_type": "code",
   "execution_count": 21,
   "id": "d12e0698-d7c8-4acc-b309-870ba03f55a6",
   "metadata": {},
   "outputs": [],
   "source": [
    "# multi parameterized function"
   ]
  },
  {
   "cell_type": "code",
   "execution_count": 23,
   "id": "2e5d4d6d-a2cd-4ce2-95d4-3c12ee9aee1a",
   "metadata": {},
   "outputs": [],
   "source": [
    "def add(x, y):\n",
    "    print('addition is', x + y)"
   ]
  },
  {
   "cell_type": "code",
   "execution_count": 25,
   "id": "5ba2a829-2283-4c1b-9e25-1cf128953402",
   "metadata": {},
   "outputs": [
    {
     "name": "stdout",
     "output_type": "stream",
     "text": [
      "addition is 8\n"
     ]
    }
   ],
   "source": [
    "add(3 ,5)"
   ]
  },
  {
   "cell_type": "code",
   "execution_count": 27,
   "id": "c7580940-e688-4591-b282-27944d807a2f",
   "metadata": {},
   "outputs": [],
   "source": [
    "add = lambda x,y: x + y"
   ]
  },
  {
   "cell_type": "code",
   "execution_count": 29,
   "id": "b5447bcb-7656-4487-ac18-cddbabbe915f",
   "metadata": {},
   "outputs": [
    {
     "data": {
      "text/plain": [
       "11"
      ]
     },
     "execution_count": 29,
     "metadata": {},
     "output_type": "execute_result"
    }
   ],
   "source": [
    "add(4, 7)"
   ]
  },
  {
   "cell_type": "code",
   "execution_count": 31,
   "id": "2b64a031-e12d-4990-ac16-55f44dccadad",
   "metadata": {},
   "outputs": [],
   "source": [
    "# create a function to check which one is larger of 2"
   ]
  },
  {
   "cell_type": "code",
   "execution_count": 35,
   "id": "3c23d53b-48ad-435e-af2f-e87ea9521e32",
   "metadata": {},
   "outputs": [],
   "source": [
    "def larger(x, y):\n",
    "    if x > y:\n",
    "        print(f\"larger is {x}\")\n",
    "    else:\n",
    "        print(f\"larger is {y}\")"
   ]
  },
  {
   "cell_type": "code",
   "execution_count": 37,
   "id": "e3a89cb6-fc2d-43c8-8493-001cfb90b64c",
   "metadata": {},
   "outputs": [
    {
     "name": "stdout",
     "output_type": "stream",
     "text": [
      "larger is 10\n"
     ]
    }
   ],
   "source": [
    "larger(5, 10)"
   ]
  },
  {
   "cell_type": "code",
   "execution_count": 39,
   "id": "19035af9-eda6-4a2e-a191-a73d1a438b26",
   "metadata": {},
   "outputs": [],
   "source": [
    "# print a name particular number of times\n",
    "\n",
    "def pr(name, count):\n",
    "    for i in range(count):\n",
    "        print(name)"
   ]
  },
  {
   "cell_type": "code",
   "execution_count": 41,
   "id": "88a33d60-c82c-4081-8d94-394bbe125fad",
   "metadata": {},
   "outputs": [
    {
     "name": "stdout",
     "output_type": "stream",
     "text": [
      "Aditya\n",
      "Aditya\n",
      "Aditya\n"
     ]
    }
   ],
   "source": [
    "pr('Aditya', 3)"
   ]
  },
  {
   "cell_type": "code",
   "execution_count": 43,
   "id": "350f54f5-284c-4620-9fd8-56125f2aedea",
   "metadata": {},
   "outputs": [],
   "source": [
    "# return"
   ]
  },
  {
   "cell_type": "code",
   "execution_count": 47,
   "id": "a53ca74c-8691-466d-a32e-b38666f1ffaa",
   "metadata": {},
   "outputs": [],
   "source": [
    "def sq(a):\n",
    "    print(a * a)"
   ]
  },
  {
   "cell_type": "code",
   "execution_count": 49,
   "id": "bed4b6fd-9bdf-49b4-b1d0-9e4df4a0b0f3",
   "metadata": {},
   "outputs": [
    {
     "name": "stdout",
     "output_type": "stream",
     "text": [
      "4\n"
     ]
    }
   ],
   "source": [
    "sq(2)"
   ]
  },
  {
   "cell_type": "code",
   "execution_count": 51,
   "id": "a1d9c895-b439-4e5f-870c-79e061d9da05",
   "metadata": {},
   "outputs": [
    {
     "name": "stdout",
     "output_type": "stream",
     "text": [
      "4\n"
     ]
    }
   ],
   "source": [
    "var = sq(2)"
   ]
  },
  {
   "cell_type": "code",
   "execution_count": 55,
   "id": "c21daeab-ae84-49ae-add9-5f16692f972a",
   "metadata": {},
   "outputs": [
    {
     "name": "stdout",
     "output_type": "stream",
     "text": [
      "None\n"
     ]
    }
   ],
   "source": [
    "print(var)"
   ]
  },
  {
   "cell_type": "code",
   "execution_count": 59,
   "id": "2e937449-4f28-4027-9250-629e042342cd",
   "metadata": {},
   "outputs": [],
   "source": [
    "def sq(a):\n",
    "    return a * a"
   ]
  },
  {
   "cell_type": "code",
   "execution_count": 63,
   "id": "da1a70b4-e61c-452c-99fe-d8985ac15817",
   "metadata": {},
   "outputs": [
    {
     "data": {
      "text/plain": [
       "4"
      ]
     },
     "execution_count": 63,
     "metadata": {},
     "output_type": "execute_result"
    }
   ],
   "source": [
    "sq(2)"
   ]
  },
  {
   "cell_type": "code",
   "execution_count": 65,
   "id": "1dedfa34-7cc7-4f0e-a52e-b2939864d317",
   "metadata": {},
   "outputs": [],
   "source": [
    "var = sq(2)"
   ]
  },
  {
   "cell_type": "code",
   "execution_count": 67,
   "id": "8c4a2884-179a-4b62-9092-c51169e42328",
   "metadata": {},
   "outputs": [
    {
     "name": "stdout",
     "output_type": "stream",
     "text": [
      "4\n"
     ]
    }
   ],
   "source": [
    "print(var)"
   ]
  },
  {
   "cell_type": "code",
   "execution_count": 69,
   "id": "9d8043c7-551e-4d14-af77-4edc60853429",
   "metadata": {},
   "outputs": [],
   "source": [
    "def large(x, y):\n",
    "    if x > y:\n",
    "        return x\n",
    "    else:\n",
    "        return y"
   ]
  },
  {
   "cell_type": "code",
   "execution_count": 71,
   "id": "d1642804-a215-420a-b47d-73ed0eb686ba",
   "metadata": {},
   "outputs": [
    {
     "data": {
      "text/plain": [
       "10"
      ]
     },
     "execution_count": 71,
     "metadata": {},
     "output_type": "execute_result"
    }
   ],
   "source": [
    "large(2, 10)"
   ]
  },
  {
   "cell_type": "code",
   "execution_count": 73,
   "id": "41b1f009-c2b3-4c40-b68b-8acccfecc0cb",
   "metadata": {},
   "outputs": [],
   "source": [
    "# multi return\n",
    "\n",
    "def calc(x):\n",
    "    sq = x * x\n",
    "    cu = x ** 3\n",
    "    return sq, cu"
   ]
  },
  {
   "cell_type": "code",
   "execution_count": 75,
   "id": "06c9f973-f3ec-4331-b986-d02229619268",
   "metadata": {},
   "outputs": [
    {
     "data": {
      "text/plain": [
       "(9, 27)"
      ]
     },
     "execution_count": 75,
     "metadata": {},
     "output_type": "execute_result"
    }
   ],
   "source": [
    "calc(3)"
   ]
  },
  {
   "cell_type": "code",
   "execution_count": 77,
   "id": "6ed220ee-7ff5-4c6a-8553-db194dd545b1",
   "metadata": {},
   "outputs": [],
   "source": [
    "# default parameters"
   ]
  },
  {
   "cell_type": "code",
   "execution_count": 79,
   "id": "3ecfb981-bfbc-4b8f-9917-edd3b512753d",
   "metadata": {},
   "outputs": [],
   "source": [
    "def add3(x=1, y=2, z=3):\n",
    "    add = x + y + z\n",
    "    return add"
   ]
  },
  {
   "cell_type": "code",
   "execution_count": 85,
   "id": "a2b33b22-747a-46d0-bf21-ab8b639d42bb",
   "metadata": {},
   "outputs": [
    {
     "data": {
      "text/plain": [
       "25"
      ]
     },
     "execution_count": 85,
     "metadata": {},
     "output_type": "execute_result"
    }
   ],
   "source": [
    "add3(12, 10)"
   ]
  },
  {
   "cell_type": "code",
   "execution_count": 87,
   "id": "980e20df-819a-4934-a58d-a83aa2897205",
   "metadata": {},
   "outputs": [
    {
     "data": {
      "text/plain": [
       "14"
      ]
     },
     "execution_count": 87,
     "metadata": {},
     "output_type": "execute_result"
    }
   ],
   "source": [
    "add3(y = 10)"
   ]
  },
  {
   "cell_type": "code",
   "execution_count": 97,
   "id": "88eed29d-1885-4e69-af29-bfaf6904ab0c",
   "metadata": {},
   "outputs": [],
   "source": [
    "def add3(x,y=2,z=3):\n",
    "    add = x + y + z\n",
    "    return add"
   ]
  },
  {
   "cell_type": "code",
   "execution_count": 99,
   "id": "b48a50c7-2188-4b45-8e06-2082d0af3205",
   "metadata": {},
   "outputs": [
    {
     "data": {
      "text/plain": [
       "17"
      ]
     },
     "execution_count": 99,
     "metadata": {},
     "output_type": "execute_result"
    }
   ],
   "source": [
    "add3(12)"
   ]
  },
  {
   "cell_type": "code",
   "execution_count": 113,
   "id": "70dc3fae-0dca-40b4-a69e-973491dfd289",
   "metadata": {},
   "outputs": [],
   "source": [
    "\n",
    "def dyn(*x):\n",
    "    add = 0\n",
    "    for i in x:\n",
    "        add = add + i\n",
    "    return add"
   ]
  },
  {
   "cell_type": "code",
   "execution_count": 115,
   "id": "85f8c68d-172d-4055-b261-972f5c96d9af",
   "metadata": {},
   "outputs": [
    {
     "data": {
      "text/plain": [
       "42"
      ]
     },
     "execution_count": 115,
     "metadata": {},
     "output_type": "execute_result"
    }
   ],
   "source": [
    "dyn(3,6,4,2,8,9,10)"
   ]
  },
  {
   "cell_type": "code",
   "execution_count": 131,
   "id": "9fbec2af-62b7-4576-a3a5-8b4d3f694917",
   "metadata": {},
   "outputs": [],
   "source": [
    "l = [34, 56, 12, 89, 21]"
   ]
  },
  {
   "cell_type": "code",
   "execution_count": 133,
   "id": "9b64f07e-c9b2-4ca7-be15-0c3e0082f790",
   "metadata": {},
   "outputs": [],
   "source": [
    "new = filter(lambda x: x > 30, l)"
   ]
  },
  {
   "cell_type": "code",
   "execution_count": 135,
   "id": "bbec125a-184e-441b-8cc5-298f98fe3e5a",
   "metadata": {},
   "outputs": [
    {
     "data": {
      "text/plain": [
       "[34, 56, 89]"
      ]
     },
     "execution_count": 135,
     "metadata": {},
     "output_type": "execute_result"
    }
   ],
   "source": [
    "list(new)"
   ]
  },
  {
   "cell_type": "code",
   "execution_count": 137,
   "id": "acad1be2-5e0b-40aa-bd81-6e84781b0020",
   "metadata": {},
   "outputs": [],
   "source": [
    "l.append(100)"
   ]
  },
  {
   "cell_type": "code",
   "execution_count": 139,
   "id": "ae7fd9ed-fea7-44e5-b6c7-b501f0c75024",
   "metadata": {},
   "outputs": [
    {
     "data": {
      "text/plain": [
       "[34, 56, 12, 89, 21, 100]"
      ]
     },
     "execution_count": 139,
     "metadata": {},
     "output_type": "execute_result"
    }
   ],
   "source": [
    "l"
   ]
  },
  {
   "cell_type": "code",
   "execution_count": 141,
   "id": "9bc3133a-5cd4-47dc-8242-2477b94d38bf",
   "metadata": {},
   "outputs": [
    {
     "data": {
      "text/plain": [
       "[]"
      ]
     },
     "execution_count": 141,
     "metadata": {},
     "output_type": "execute_result"
    }
   ],
   "source": [
    "list(new)"
   ]
  },
  {
   "cell_type": "code",
   "execution_count": 143,
   "id": "458b1235-a6de-46e4-91ab-5b2b33acb514",
   "metadata": {},
   "outputs": [],
   "source": [
    "new = map(lambda x: sq(x), l)"
   ]
  },
  {
   "cell_type": "code",
   "execution_count": 145,
   "id": "6e90b250-c01c-456d-a952-da068932016f",
   "metadata": {},
   "outputs": [
    {
     "data": {
      "text/plain": [
       "[1156, 3136, 144, 7921, 441, 10000]"
      ]
     },
     "execution_count": 145,
     "metadata": {},
     "output_type": "execute_result"
    }
   ],
   "source": [
    "list(new)"
   ]
  },
  {
   "cell_type": "code",
   "execution_count": 147,
   "id": "f8d8b42e-b3ed-4d46-80af-6dc5ed2b17fa",
   "metadata": {},
   "outputs": [],
   "source": [
    "new = map(lambda x: x > 30, l)"
   ]
  },
  {
   "cell_type": "code",
   "execution_count": 149,
   "id": "18c1bd80-24d7-4079-8a53-9ae9db43c44d",
   "metadata": {},
   "outputs": [
    {
     "data": {
      "text/plain": [
       "[True, True, False, True, False, True]"
      ]
     },
     "execution_count": 149,
     "metadata": {},
     "output_type": "execute_result"
    }
   ],
   "source": [
    "list(new)"
   ]
  },
  {
   "cell_type": "markdown",
   "id": "3837b17c-f49d-45a7-9ec6-a863c83dd64d",
   "metadata": {},
   "source": [
    "# Modules"
   ]
  },
  {
   "cell_type": "code",
   "execution_count": 157,
   "id": "7e2e39a8-d4f5-4200-bd8b-ad9fbef34ec1",
   "metadata": {},
   "outputs": [],
   "source": [
    "import math as m"
   ]
  },
  {
   "cell_type": "code",
   "execution_count": 159,
   "id": "0c6ed818-b425-45e6-ad66-9920180f3c62",
   "metadata": {},
   "outputs": [
    {
     "data": {
      "text/plain": [
       "7.0"
      ]
     },
     "execution_count": 159,
     "metadata": {},
     "output_type": "execute_result"
    }
   ],
   "source": [
    "m.sqrt(49)"
   ]
  },
  {
   "cell_type": "code",
   "execution_count": 163,
   "id": "73b84955-789f-4616-ad1c-6cbe56471e1d",
   "metadata": {},
   "outputs": [],
   "source": [
    "dir(m);"
   ]
  },
  {
   "cell_type": "code",
   "execution_count": 165,
   "id": "9c1cd69b-9f98-46f8-a1e8-27d044a4192f",
   "metadata": {},
   "outputs": [
    {
     "name": "stdout",
     "output_type": "stream",
     "text": [
      "Help on module math:\n",
      "\n",
      "NAME\n",
      "    math\n",
      "\n",
      "MODULE REFERENCE\n",
      "    https://docs.python.org/3.11/library/math.html\n",
      "    \n",
      "    The following documentation is automatically generated from the Python\n",
      "    source files.  It may be incomplete, incorrect or include features that\n",
      "    are considered implementation detail and may vary between Python\n",
      "    implementations.  When in doubt, consult the module reference at the\n",
      "    location listed above.\n",
      "\n",
      "DESCRIPTION\n",
      "    This module provides access to the mathematical functions\n",
      "    defined by the C standard.\n",
      "\n",
      "FUNCTIONS\n",
      "    acos(x, /)\n",
      "        Return the arc cosine (measured in radians) of x.\n",
      "        \n",
      "        The result is between 0 and pi.\n",
      "    \n",
      "    acosh(x, /)\n",
      "        Return the inverse hyperbolic cosine of x.\n",
      "    \n",
      "    asin(x, /)\n",
      "        Return the arc sine (measured in radians) of x.\n",
      "        \n",
      "        The result is between -pi/2 and pi/2.\n",
      "    \n",
      "    asinh(x, /)\n",
      "        Return the inverse hyperbolic sine of x.\n",
      "    \n",
      "    atan(x, /)\n",
      "        Return the arc tangent (measured in radians) of x.\n",
      "        \n",
      "        The result is between -pi/2 and pi/2.\n",
      "    \n",
      "    atan2(y, x, /)\n",
      "        Return the arc tangent (measured in radians) of y/x.\n",
      "        \n",
      "        Unlike atan(y/x), the signs of both x and y are considered.\n",
      "    \n",
      "    atanh(x, /)\n",
      "        Return the inverse hyperbolic tangent of x.\n",
      "    \n",
      "    cbrt(x, /)\n",
      "        Return the cube root of x.\n",
      "    \n",
      "    ceil(x, /)\n",
      "        Return the ceiling of x as an Integral.\n",
      "        \n",
      "        This is the smallest integer >= x.\n",
      "    \n",
      "    comb(n, k, /)\n",
      "        Number of ways to choose k items from n items without repetition and without order.\n",
      "        \n",
      "        Evaluates to n! / (k! * (n - k)!) when k <= n and evaluates\n",
      "        to zero when k > n.\n",
      "        \n",
      "        Also called the binomial coefficient because it is equivalent\n",
      "        to the coefficient of k-th term in polynomial expansion of the\n",
      "        expression (1 + x)**n.\n",
      "        \n",
      "        Raises TypeError if either of the arguments are not integers.\n",
      "        Raises ValueError if either of the arguments are negative.\n",
      "    \n",
      "    copysign(x, y, /)\n",
      "        Return a float with the magnitude (absolute value) of x but the sign of y.\n",
      "        \n",
      "        On platforms that support signed zeros, copysign(1.0, -0.0)\n",
      "        returns -1.0.\n",
      "    \n",
      "    cos(x, /)\n",
      "        Return the cosine of x (measured in radians).\n",
      "    \n",
      "    cosh(x, /)\n",
      "        Return the hyperbolic cosine of x.\n",
      "    \n",
      "    degrees(x, /)\n",
      "        Convert angle x from radians to degrees.\n",
      "    \n",
      "    dist(p, q, /)\n",
      "        Return the Euclidean distance between two points p and q.\n",
      "        \n",
      "        The points should be specified as sequences (or iterables) of\n",
      "        coordinates.  Both inputs must have the same dimension.\n",
      "        \n",
      "        Roughly equivalent to:\n",
      "            sqrt(sum((px - qx) ** 2.0 for px, qx in zip(p, q)))\n",
      "    \n",
      "    erf(x, /)\n",
      "        Error function at x.\n",
      "    \n",
      "    erfc(x, /)\n",
      "        Complementary error function at x.\n",
      "    \n",
      "    exp(x, /)\n",
      "        Return e raised to the power of x.\n",
      "    \n",
      "    exp2(x, /)\n",
      "        Return 2 raised to the power of x.\n",
      "    \n",
      "    expm1(x, /)\n",
      "        Return exp(x)-1.\n",
      "        \n",
      "        This function avoids the loss of precision involved in the direct evaluation of exp(x)-1 for small x.\n",
      "    \n",
      "    fabs(x, /)\n",
      "        Return the absolute value of the float x.\n",
      "    \n",
      "    factorial(n, /)\n",
      "        Find n!.\n",
      "        \n",
      "        Raise a ValueError if x is negative or non-integral.\n",
      "    \n",
      "    floor(x, /)\n",
      "        Return the floor of x as an Integral.\n",
      "        \n",
      "        This is the largest integer <= x.\n",
      "    \n",
      "    fmod(x, y, /)\n",
      "        Return fmod(x, y), according to platform C.\n",
      "        \n",
      "        x % y may differ.\n",
      "    \n",
      "    frexp(x, /)\n",
      "        Return the mantissa and exponent of x, as pair (m, e).\n",
      "        \n",
      "        m is a float and e is an int, such that x = m * 2.**e.\n",
      "        If x is 0, m and e are both 0.  Else 0.5 <= abs(m) < 1.0.\n",
      "    \n",
      "    fsum(seq, /)\n",
      "        Return an accurate floating point sum of values in the iterable seq.\n",
      "        \n",
      "        Assumes IEEE-754 floating point arithmetic.\n",
      "    \n",
      "    gamma(x, /)\n",
      "        Gamma function at x.\n",
      "    \n",
      "    gcd(*integers)\n",
      "        Greatest Common Divisor.\n",
      "    \n",
      "    hypot(...)\n",
      "        hypot(*coordinates) -> value\n",
      "        \n",
      "        Multidimensional Euclidean distance from the origin to a point.\n",
      "        \n",
      "        Roughly equivalent to:\n",
      "            sqrt(sum(x**2 for x in coordinates))\n",
      "        \n",
      "        For a two dimensional point (x, y), gives the hypotenuse\n",
      "        using the Pythagorean theorem:  sqrt(x*x + y*y).\n",
      "        \n",
      "        For example, the hypotenuse of a 3/4/5 right triangle is:\n",
      "        \n",
      "            >>> hypot(3.0, 4.0)\n",
      "            5.0\n",
      "    \n",
      "    isclose(a, b, *, rel_tol=1e-09, abs_tol=0.0)\n",
      "        Determine whether two floating point numbers are close in value.\n",
      "        \n",
      "          rel_tol\n",
      "            maximum difference for being considered \"close\", relative to the\n",
      "            magnitude of the input values\n",
      "          abs_tol\n",
      "            maximum difference for being considered \"close\", regardless of the\n",
      "            magnitude of the input values\n",
      "        \n",
      "        Return True if a is close in value to b, and False otherwise.\n",
      "        \n",
      "        For the values to be considered close, the difference between them\n",
      "        must be smaller than at least one of the tolerances.\n",
      "        \n",
      "        -inf, inf and NaN behave similarly to the IEEE 754 Standard.  That\n",
      "        is, NaN is not close to anything, even itself.  inf and -inf are\n",
      "        only close to themselves.\n",
      "    \n",
      "    isfinite(x, /)\n",
      "        Return True if x is neither an infinity nor a NaN, and False otherwise.\n",
      "    \n",
      "    isinf(x, /)\n",
      "        Return True if x is a positive or negative infinity, and False otherwise.\n",
      "    \n",
      "    isnan(x, /)\n",
      "        Return True if x is a NaN (not a number), and False otherwise.\n",
      "    \n",
      "    isqrt(n, /)\n",
      "        Return the integer part of the square root of the input.\n",
      "    \n",
      "    lcm(*integers)\n",
      "        Least Common Multiple.\n",
      "    \n",
      "    ldexp(x, i, /)\n",
      "        Return x * (2**i).\n",
      "        \n",
      "        This is essentially the inverse of frexp().\n",
      "    \n",
      "    lgamma(x, /)\n",
      "        Natural logarithm of absolute value of Gamma function at x.\n",
      "    \n",
      "    log(...)\n",
      "        log(x, [base=math.e])\n",
      "        Return the logarithm of x to the given base.\n",
      "        \n",
      "        If the base not specified, returns the natural logarithm (base e) of x.\n",
      "    \n",
      "    log10(x, /)\n",
      "        Return the base 10 logarithm of x.\n",
      "    \n",
      "    log1p(x, /)\n",
      "        Return the natural logarithm of 1+x (base e).\n",
      "        \n",
      "        The result is computed in a way which is accurate for x near zero.\n",
      "    \n",
      "    log2(x, /)\n",
      "        Return the base 2 logarithm of x.\n",
      "    \n",
      "    modf(x, /)\n",
      "        Return the fractional and integer parts of x.\n",
      "        \n",
      "        Both results carry the sign of x and are floats.\n",
      "    \n",
      "    nextafter(x, y, /)\n",
      "        Return the next floating-point value after x towards y.\n",
      "    \n",
      "    perm(n, k=None, /)\n",
      "        Number of ways to choose k items from n items without repetition and with order.\n",
      "        \n",
      "        Evaluates to n! / (n - k)! when k <= n and evaluates\n",
      "        to zero when k > n.\n",
      "        \n",
      "        If k is not specified or is None, then k defaults to n\n",
      "        and the function returns n!.\n",
      "        \n",
      "        Raises TypeError if either of the arguments are not integers.\n",
      "        Raises ValueError if either of the arguments are negative.\n",
      "    \n",
      "    pow(x, y, /)\n",
      "        Return x**y (x to the power of y).\n",
      "    \n",
      "    prod(iterable, /, *, start=1)\n",
      "        Calculate the product of all the elements in the input iterable.\n",
      "        \n",
      "        The default start value for the product is 1.\n",
      "        \n",
      "        When the iterable is empty, return the start value.  This function is\n",
      "        intended specifically for use with numeric values and may reject\n",
      "        non-numeric types.\n",
      "    \n",
      "    radians(x, /)\n",
      "        Convert angle x from degrees to radians.\n",
      "    \n",
      "    remainder(x, y, /)\n",
      "        Difference between x and the closest integer multiple of y.\n",
      "        \n",
      "        Return x - n*y where n*y is the closest integer multiple of y.\n",
      "        In the case where x is exactly halfway between two multiples of\n",
      "        y, the nearest even value of n is used. The result is always exact.\n",
      "    \n",
      "    sin(x, /)\n",
      "        Return the sine of x (measured in radians).\n",
      "    \n",
      "    sinh(x, /)\n",
      "        Return the hyperbolic sine of x.\n",
      "    \n",
      "    sqrt(x, /)\n",
      "        Return the square root of x.\n",
      "    \n",
      "    tan(x, /)\n",
      "        Return the tangent of x (measured in radians).\n",
      "    \n",
      "    tanh(x, /)\n",
      "        Return the hyperbolic tangent of x.\n",
      "    \n",
      "    trunc(x, /)\n",
      "        Truncates the Real x to the nearest Integral toward 0.\n",
      "        \n",
      "        Uses the __trunc__ magic method.\n",
      "    \n",
      "    ulp(x, /)\n",
      "        Return the value of the least significant bit of the float x.\n",
      "\n",
      "DATA\n",
      "    e = 2.718281828459045\n",
      "    inf = inf\n",
      "    nan = nan\n",
      "    pi = 3.141592653589793\n",
      "    tau = 6.283185307179586\n",
      "\n",
      "FILE\n",
      "    /home/aditya/anaconda3/lib/python3.11/lib-dynload/math.cpython-311-x86_64-linux-gnu.so\n",
      "\n",
      "\n"
     ]
    }
   ],
   "source": [
    "help(m)"
   ]
  },
  {
   "cell_type": "code",
   "execution_count": 171,
   "id": "edfd5104-deb9-4798-9941-46857207a6ce",
   "metadata": {},
   "outputs": [
    {
     "data": {
      "text/plain": [
       "3.141592653589793"
      ]
     },
     "execution_count": 171,
     "metadata": {},
     "output_type": "execute_result"
    }
   ],
   "source": [
    "m.pi"
   ]
  },
  {
   "cell_type": "code",
   "execution_count": 167,
   "id": "1ab368a3-e2fc-4331-85b8-08ec7cbbd676",
   "metadata": {},
   "outputs": [],
   "source": [
    "def peri(radius):\n",
    "    perimeter = 2 * radius * m.pi\n",
    "    return perimeter"
   ]
  },
  {
   "cell_type": "code",
   "execution_count": 169,
   "id": "16fbc05b-4433-4049-aa44-cc110f7f892a",
   "metadata": {},
   "outputs": [
    {
     "data": {
      "text/plain": [
       "12.566370614359172"
      ]
     },
     "execution_count": 169,
     "metadata": {},
     "output_type": "execute_result"
    }
   ],
   "source": [
    "peri(2)"
   ]
  },
  {
   "cell_type": "code",
   "execution_count": 173,
   "id": "2fca1b0c-f833-4b5e-ade0-64d2263f2e8d",
   "metadata": {},
   "outputs": [],
   "source": [
    "import time as t"
   ]
  },
  {
   "cell_type": "code",
   "execution_count": 175,
   "id": "700f3699-4075-4f97-915d-2d1e43aa61a0",
   "metadata": {},
   "outputs": [
    {
     "data": {
      "text/plain": [
       "'Wed Sep 11 13:27:40 2024'"
      ]
     },
     "execution_count": 175,
     "metadata": {},
     "output_type": "execute_result"
    }
   ],
   "source": [
    "t.asctime()"
   ]
  },
  {
   "cell_type": "code",
   "execution_count": 177,
   "id": "e7b85b86-ee54-4975-8ce6-e33cf66afbb5",
   "metadata": {},
   "outputs": [
    {
     "name": "stdout",
     "output_type": "stream",
     "text": [
      "hello\n",
      "World\n"
     ]
    }
   ],
   "source": [
    "print('hello')\n",
    "t.sleep(5)\n",
    "print('World')"
   ]
  },
  {
   "cell_type": "code",
   "execution_count": 179,
   "id": "8e17fc6b-643a-44f3-aa97-af36ea17fe8c",
   "metadata": {},
   "outputs": [
    {
     "ename": "NameError",
     "evalue": "name 'pri' is not defined",
     "output_type": "error",
     "traceback": [
      "\u001b[0;31m---------------------------------------------------------------------------\u001b[0m",
      "\u001b[0;31mNameError\u001b[0m                                 Traceback (most recent call last)",
      "Cell \u001b[0;32mIn[179], line 1\u001b[0m\n\u001b[0;32m----> 1\u001b[0m pri()\n",
      "\u001b[0;31mNameError\u001b[0m: name 'pri' is not defined"
     ]
    }
   ],
   "source": [
    "pri()"
   ]
  },
  {
   "cell_type": "code",
   "execution_count": 187,
   "id": "ff285cd0-b5fc-4fd5-a73b-240ae4af0cd5",
   "metadata": {},
   "outputs": [
    {
     "data": {
      "text/plain": [
       "'/home/aditya/GUEST_LECTURES/Samarth'"
      ]
     },
     "execution_count": 187,
     "metadata": {},
     "output_type": "execute_result"
    }
   ],
   "source": [
    "pwd"
   ]
  },
  {
   "cell_type": "code",
   "execution_count": 181,
   "id": "be817066-46ea-4e4c-ab91-6a4991d6ec36",
   "metadata": {},
   "outputs": [],
   "source": [
    "import module1 as mod"
   ]
  },
  {
   "cell_type": "code",
   "execution_count": 183,
   "id": "9a8f67f2-b056-427f-9dcf-c023b09f6c73",
   "metadata": {},
   "outputs": [
    {
     "name": "stdout",
     "output_type": "stream",
     "text": [
      "ok\n",
      "goodbye\n",
      "zzzzzz\n"
     ]
    }
   ],
   "source": [
    "mod.pri()"
   ]
  },
  {
   "cell_type": "code",
   "execution_count": 185,
   "id": "6e3083f6-f77f-4176-a3b3-9b6b0b8b7014",
   "metadata": {},
   "outputs": [
    {
     "data": {
      "text/plain": [
       "['__builtins__',\n",
       " '__cached__',\n",
       " '__doc__',\n",
       " '__file__',\n",
       " '__loader__',\n",
       " '__name__',\n",
       " '__package__',\n",
       " '__spec__',\n",
       " 'pri']"
      ]
     },
     "execution_count": 185,
     "metadata": {},
     "output_type": "execute_result"
    }
   ],
   "source": [
    "dir(mod)"
   ]
  },
  {
   "cell_type": "code",
   "execution_count": null,
   "id": "ea623e37-f04c-4c7a-95f3-19e7854962a6",
   "metadata": {},
   "outputs": [],
   "source": []
  }
 ],
 "metadata": {
  "kernelspec": {
   "display_name": "Python 3 (ipykernel)",
   "language": "python",
   "name": "python3"
  },
  "language_info": {
   "codemirror_mode": {
    "name": "ipython",
    "version": 3
   },
   "file_extension": ".py",
   "mimetype": "text/x-python",
   "name": "python",
   "nbconvert_exporter": "python",
   "pygments_lexer": "ipython3",
   "version": "3.11.9"
  }
 },
 "nbformat": 4,
 "nbformat_minor": 5
}
