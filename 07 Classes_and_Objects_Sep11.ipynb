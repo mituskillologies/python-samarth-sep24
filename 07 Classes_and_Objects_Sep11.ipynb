{
 "cells": [
  {
   "cell_type": "code",
   "execution_count": null,
   "id": "7b16bb37-214e-44d1-b554-2ba0b8351558",
   "metadata": {},
   "outputs": [],
   "source": [
    "class Employee:\n",
    "    pass"
   ]
  },
  {
   "cell_type": "code",
   "execution_count": null,
   "id": "717d5009-538b-4e78-9ab3-bc7fe7e58e77",
   "metadata": {},
   "outputs": [],
   "source": [
    "emp1 = Employee()\n",
    "emp2 = Employee()"
   ]
  },
  {
   "cell_type": "code",
   "execution_count": null,
   "id": "d3a82184-6dd9-4b3e-95a0-631d8c2dd9b3",
   "metadata": {},
   "outputs": [],
   "source": [
    "print(emp1)   # object of a class"
   ]
  },
  {
   "cell_type": "code",
   "execution_count": null,
   "id": "ee822cf7-0725-4397-8a8e-df26af4cd895",
   "metadata": {},
   "outputs": [],
   "source": [
    "print(emp2)"
   ]
  },
  {
   "cell_type": "code",
   "execution_count": null,
   "id": "2c93c00d-2120-4201-88b8-56b74694b796",
   "metadata": {},
   "outputs": [],
   "source": [
    "emp1.first = 'Riya'\n",
    "emp1.last = 'Patel'\n",
    "emp1.salary = 50000"
   ]
  },
  {
   "cell_type": "code",
   "execution_count": null,
   "id": "a4a9ccd0-f0af-47d2-b3a3-8ff265c176c8",
   "metadata": {},
   "outputs": [],
   "source": [
    "emp2.first = 'Akash'\n",
    "emp2.last = 'Jadhav'\n",
    "emp2.salary = 49500"
   ]
  },
  {
   "cell_type": "code",
   "execution_count": null,
   "id": "dbd316e9-8a3c-4c2d-b10c-6d7c35774513",
   "metadata": {},
   "outputs": [],
   "source": [
    "print(emp1.salary)"
   ]
  },
  {
   "cell_type": "code",
   "execution_count": null,
   "id": "6dd6274a-e7be-434c-8fec-de680679aef9",
   "metadata": {},
   "outputs": [],
   "source": [
    "print(emp2.last)"
   ]
  },
  {
   "cell_type": "code",
   "execution_count": 31,
   "id": "874690cc-4e3c-4e00-b168-816890fbdc10",
   "metadata": {},
   "outputs": [],
   "source": [
    "class Employee:\n",
    "\n",
    "    def __init__ (self, first, last, salary):\n",
    "        self.first = first\n",
    "        self.last = last\n",
    "        self.salary = salary\n",
    "\n",
    "    def yrsal(self):\n",
    "        print(f\"yearly salary is {self.salary * 12}\")"
   ]
  },
  {
   "cell_type": "code",
   "execution_count": 33,
   "id": "32901ebf-e2a1-4b80-b519-2f0801283169",
   "metadata": {},
   "outputs": [],
   "source": [
    "emp1 = Employee('Riya', 'Patel', 50000)\n",
    "emp2 = Employee('Akash', 'Jadhav', 49500)"
   ]
  },
  {
   "cell_type": "code",
   "execution_count": 35,
   "id": "72e854bc-4dfe-40ce-b562-1e388803028f",
   "metadata": {},
   "outputs": [
    {
     "data": {
      "text/plain": [
       "'Patel'"
      ]
     },
     "execution_count": 35,
     "metadata": {},
     "output_type": "execute_result"
    }
   ],
   "source": [
    "emp1.last"
   ]
  },
  {
   "cell_type": "code",
   "execution_count": null,
   "id": "0b0413ab-f3a0-4051-a214-7025dfb8271b",
   "metadata": {},
   "outputs": [],
   "source": [
    "emp1.yrsal()"
   ]
  },
  {
   "cell_type": "code",
   "execution_count": 39,
   "id": "fb96a2d2-31a2-4000-b7f9-531901655c62",
   "metadata": {},
   "outputs": [],
   "source": [
    "class Employee2(Employee):\n",
    "    pass"
   ]
  },
  {
   "cell_type": "code",
   "execution_count": 41,
   "id": "ac4a78b9-0425-49fe-a6e4-e9161a9eff13",
   "metadata": {},
   "outputs": [],
   "source": [
    "emp3 = Employee2('Ajit', 'Mane', 43000)"
   ]
  },
  {
   "cell_type": "code",
   "execution_count": 43,
   "id": "bef20ae5-5d4a-4a36-97c4-15606314074c",
   "metadata": {},
   "outputs": [
    {
     "name": "stdout",
     "output_type": "stream",
     "text": [
      "yearly salary is 516000\n"
     ]
    }
   ],
   "source": [
    "emp3.yrsal()"
   ]
  },
  {
   "cell_type": "markdown",
   "id": "e794769a-0fa0-4b25-b6f3-4e28399d8fec",
   "metadata": {},
   "source": [
    "### Encapsulation"
   ]
  },
  {
   "cell_type": "code",
   "execution_count": 92,
   "id": "00bb7abf-9ae0-4775-9fd1-0907bcc6da7a",
   "metadata": {},
   "outputs": [],
   "source": [
    "class Employee:\n",
    "\n",
    "    def __init__ (self, first, last, salary):\n",
    "        self.first = first\n",
    "        self.last = last\n",
    "        self.__salary = salary # private variable\n",
    "\n",
    "    def get_sal(self):     # getter method\n",
    "        return self.__salary\n",
    "\n",
    "    def set_sal(self, other):   # setter\n",
    "        self.__salary = other\n",
    "    \n",
    "    '''def yrsal(self):\n",
    "        print(\"yearly salary is\", self.salary * 12)'''"
   ]
  },
  {
   "cell_type": "code",
   "execution_count": 94,
   "id": "b789ca42-5379-4f2f-ad03-e427c2daa3f1",
   "metadata": {},
   "outputs": [],
   "source": [
    "emp1 = Employee('Riya', 'Patel', 50000)\n",
    "emp2 = Employee('Akash', 'Jadhav', 49500)"
   ]
  },
  {
   "cell_type": "code",
   "execution_count": 96,
   "id": "f6fff708-f482-415c-8fd3-130f9954a87b",
   "metadata": {},
   "outputs": [
    {
     "ename": "AttributeError",
     "evalue": "'Employee' object has no attribute 'salary'",
     "output_type": "error",
     "traceback": [
      "\u001b[0;31m---------------------------------------------------------------------------\u001b[0m",
      "\u001b[0;31mAttributeError\u001b[0m                            Traceback (most recent call last)",
      "Cell \u001b[0;32mIn[96], line 1\u001b[0m\n\u001b[0;32m----> 1\u001b[0m emp1\u001b[38;5;241m.\u001b[39msalary\n",
      "\u001b[0;31mAttributeError\u001b[0m: 'Employee' object has no attribute 'salary'"
     ]
    }
   ],
   "source": [
    "emp1.salary"
   ]
  },
  {
   "cell_type": "code",
   "execution_count": 98,
   "id": "36b2a0ac-ae4d-4f84-976c-03a77ef96466",
   "metadata": {},
   "outputs": [
    {
     "data": {
      "text/plain": [
       "50000"
      ]
     },
     "execution_count": 98,
     "metadata": {},
     "output_type": "execute_result"
    }
   ],
   "source": [
    "emp1.get_sal()"
   ]
  },
  {
   "cell_type": "code",
   "execution_count": 100,
   "id": "aed3c58d-e739-42a8-b4e5-5af9efd666a3",
   "metadata": {},
   "outputs": [],
   "source": [
    "emp1.set_sal(100000)"
   ]
  },
  {
   "cell_type": "code",
   "execution_count": 102,
   "id": "d6ac784c-9223-4728-875a-5ec400d9d557",
   "metadata": {},
   "outputs": [
    {
     "data": {
      "text/plain": [
       "100000"
      ]
     },
     "execution_count": 102,
     "metadata": {},
     "output_type": "execute_result"
    }
   ],
   "source": [
    "emp1.get_sal()"
   ]
  },
  {
   "cell_type": "code",
   "execution_count": 104,
   "id": "e685fd97-c0c4-40c2-802d-01f4112010bf",
   "metadata": {},
   "outputs": [],
   "source": [
    "# magic method/ dunder method"
   ]
  },
  {
   "cell_type": "code",
   "execution_count": 114,
   "id": "dc10981b-f548-437d-b241-5fea84bbc738",
   "metadata": {},
   "outputs": [],
   "source": [
    "class Employee:\n",
    "\n",
    "    def __init__ (self, first, last, salary):\n",
    "        self.first = first\n",
    "        self.last = last\n",
    "        self.salary = salary\n",
    "\n",
    "    def __str__(self):\n",
    "        return f\"first:{self.first}, last: {self.last}, salary: {self.salary}\"\n",
    "\n",
    "    def yrsal(self):\n",
    "        print(f\"yearly salary is {self.salary * 12}\")"
   ]
  },
  {
   "cell_type": "code",
   "execution_count": 116,
   "id": "a5fde390-d4df-4e7c-ace6-bd25562f6c8a",
   "metadata": {},
   "outputs": [],
   "source": [
    "emp1 = Employee('Riya', 'Patel', 50000)\n",
    "emp2 = Employee('Akash', 'Jadhav', 49500)"
   ]
  },
  {
   "cell_type": "code",
   "execution_count": 118,
   "id": "897fed19-ddfb-4f3a-a24b-aa40bcabea6c",
   "metadata": {},
   "outputs": [
    {
     "name": "stdout",
     "output_type": "stream",
     "text": [
      "first:Riya, last: Patel, salary: 50000\n"
     ]
    }
   ],
   "source": [
    "print(emp1)"
   ]
  },
  {
   "cell_type": "code",
   "execution_count": 112,
   "id": "8a06aa76-cbdb-4039-bc2d-aa8592e99e7c",
   "metadata": {},
   "outputs": [
    {
     "data": {
      "text/plain": [
       "['__class__',\n",
       " '__delattr__',\n",
       " '__dict__',\n",
       " '__dir__',\n",
       " '__doc__',\n",
       " '__eq__',\n",
       " '__format__',\n",
       " '__ge__',\n",
       " '__getattribute__',\n",
       " '__getstate__',\n",
       " '__gt__',\n",
       " '__hash__',\n",
       " '__init__',\n",
       " '__init_subclass__',\n",
       " '__le__',\n",
       " '__lt__',\n",
       " '__module__',\n",
       " '__ne__',\n",
       " '__new__',\n",
       " '__reduce__',\n",
       " '__reduce_ex__',\n",
       " '__repr__',\n",
       " '__setattr__',\n",
       " '__sizeof__',\n",
       " '__str__',\n",
       " '__subclasshook__',\n",
       " '__weakref__',\n",
       " 'first',\n",
       " 'last',\n",
       " 'salary',\n",
       " 'yrsal']"
      ]
     },
     "execution_count": 112,
     "metadata": {},
     "output_type": "execute_result"
    }
   ],
   "source": [
    "dir(emp1)"
   ]
  },
  {
   "cell_type": "code",
   "execution_count": null,
   "id": "876de572-5dc3-4281-ae5f-a858f49a77f0",
   "metadata": {},
   "outputs": [],
   "source": []
  }
 ],
 "metadata": {
  "kernelspec": {
   "display_name": "Python 3 (ipykernel)",
   "language": "python",
   "name": "python3"
  },
  "language_info": {
   "codemirror_mode": {
    "name": "ipython",
    "version": 3
   },
   "file_extension": ".py",
   "mimetype": "text/x-python",
   "name": "python",
   "nbconvert_exporter": "python",
   "pygments_lexer": "ipython3",
   "version": "3.11.9"
  }
 },
 "nbformat": 4,
 "nbformat_minor": 5
}
