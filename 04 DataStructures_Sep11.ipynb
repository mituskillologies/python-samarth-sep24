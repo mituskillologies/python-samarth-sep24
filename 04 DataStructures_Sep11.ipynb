{
 "cells": [
  {
   "cell_type": "markdown",
   "id": "fdb06cf4-6123-4767-a38a-a21aa175ed2d",
   "metadata": {},
   "source": [
    "### List"
   ]
  },
  {
   "cell_type": "code",
   "execution_count": 3,
   "id": "656ade50-e5b3-4a4a-a1cc-0c08d1302663",
   "metadata": {},
   "outputs": [],
   "source": [
    "l = [12, 34, 56, 10, 27]"
   ]
  },
  {
   "cell_type": "code",
   "execution_count": 5,
   "id": "e7ef63d9-bd5f-4f84-a465-e4e4b25dde1b",
   "metadata": {},
   "outputs": [
    {
     "data": {
      "text/plain": [
       "[12, 34, 56, 10, 27]"
      ]
     },
     "execution_count": 5,
     "metadata": {},
     "output_type": "execute_result"
    }
   ],
   "source": [
    "l"
   ]
  },
  {
   "cell_type": "code",
   "execution_count": 7,
   "id": "516acf99-e7b7-4456-953c-17a452c9733b",
   "metadata": {},
   "outputs": [
    {
     "data": {
      "text/plain": [
       "list"
      ]
     },
     "execution_count": 7,
     "metadata": {},
     "output_type": "execute_result"
    }
   ],
   "source": [
    "type(l)"
   ]
  },
  {
   "cell_type": "code",
   "execution_count": 9,
   "id": "26758bfb-1f3a-4685-a07a-ced327f91117",
   "metadata": {},
   "outputs": [],
   "source": [
    "l1 = [12, 34, 55.66, 'Adi']"
   ]
  },
  {
   "cell_type": "code",
   "execution_count": 11,
   "id": "ce578ff5-3509-4591-b45e-c75a4232f9c0",
   "metadata": {},
   "outputs": [
    {
     "data": {
      "text/plain": [
       "[12, 34, 55.66, 'Adi']"
      ]
     },
     "execution_count": 11,
     "metadata": {},
     "output_type": "execute_result"
    }
   ],
   "source": [
    "l1 # lists are hetero"
   ]
  },
  {
   "cell_type": "code",
   "execution_count": 13,
   "id": "d1d37f52-259d-4a38-a98e-e2ab2f1833b8",
   "metadata": {},
   "outputs": [],
   "source": [
    "l2 = [12, 23, 12, 45, 12]"
   ]
  },
  {
   "cell_type": "code",
   "execution_count": 15,
   "id": "3135d671-e828-4b3d-96fd-dcb219dcd6c8",
   "metadata": {},
   "outputs": [
    {
     "data": {
      "text/plain": [
       "[12, 23, 12, 45, 12]"
      ]
     },
     "execution_count": 15,
     "metadata": {},
     "output_type": "execute_result"
    }
   ],
   "source": [
    "l2 # duplicates are allowed"
   ]
  },
  {
   "cell_type": "code",
   "execution_count": 17,
   "id": "41779402-ee99-44a3-8233-18d3a7079b6a",
   "metadata": {},
   "outputs": [],
   "source": [
    "# lists are ordered\n",
    "\n",
    "l = [12, 23, 45, 67, 11]"
   ]
  },
  {
   "cell_type": "code",
   "execution_count": 19,
   "id": "42ea5645-4653-4a07-9817-cb3e1ee08a0b",
   "metadata": {},
   "outputs": [
    {
     "data": {
      "text/plain": [
       "12"
      ]
     },
     "execution_count": 19,
     "metadata": {},
     "output_type": "execute_result"
    }
   ],
   "source": [
    "l[0]"
   ]
  },
  {
   "cell_type": "code",
   "execution_count": 21,
   "id": "44d450cf-c68d-4417-bec2-d4eb4e14fe90",
   "metadata": {},
   "outputs": [
    {
     "data": {
      "text/plain": [
       "67"
      ]
     },
     "execution_count": 21,
     "metadata": {},
     "output_type": "execute_result"
    }
   ],
   "source": [
    "l[-2]"
   ]
  },
  {
   "cell_type": "code",
   "execution_count": 25,
   "id": "1d851ce4-0371-4c23-b247-a05526d30d64",
   "metadata": {},
   "outputs": [],
   "source": [
    "l[0] = 100"
   ]
  },
  {
   "cell_type": "code",
   "execution_count": 29,
   "id": "4bd4bdc7-1353-4877-8845-e996c03322b5",
   "metadata": {},
   "outputs": [
    {
     "data": {
      "text/plain": [
       "[100, 23, 45, 67, 11]"
      ]
     },
     "execution_count": 29,
     "metadata": {},
     "output_type": "execute_result"
    }
   ],
   "source": [
    "l  # lists are mutable"
   ]
  },
  {
   "cell_type": "markdown",
   "id": "df394471-dbb0-4179-a983-2a9d39aa7329",
   "metadata": {},
   "source": [
    "#### list slicing"
   ]
  },
  {
   "cell_type": "code",
   "execution_count": 32,
   "id": "fe5abbec-034a-40dc-a842-7c54c88b0f13",
   "metadata": {},
   "outputs": [
    {
     "data": {
      "text/plain": [
       "[100, 23, 45]"
      ]
     },
     "execution_count": 32,
     "metadata": {},
     "output_type": "execute_result"
    }
   ],
   "source": [
    "l[0:3]"
   ]
  },
  {
   "cell_type": "code",
   "execution_count": 34,
   "id": "ec76dfc9-b170-4f92-a677-4c9f28c139d9",
   "metadata": {},
   "outputs": [],
   "source": [
    "l[0:3] = 101, 102, 103"
   ]
  },
  {
   "cell_type": "code",
   "execution_count": 36,
   "id": "ffee800e-35ed-4feb-a8ca-f7b915a7c4e2",
   "metadata": {},
   "outputs": [
    {
     "data": {
      "text/plain": [
       "[101, 102, 103, 67, 11]"
      ]
     },
     "execution_count": 36,
     "metadata": {},
     "output_type": "execute_result"
    }
   ],
   "source": [
    "l"
   ]
  },
  {
   "cell_type": "code",
   "execution_count": 38,
   "id": "7871071d-995b-464e-8809-2c1aa98133aa",
   "metadata": {},
   "outputs": [
    {
     "data": {
      "text/plain": [
       "[101, 102, 103, 67, 11]"
      ]
     },
     "execution_count": 38,
     "metadata": {},
     "output_type": "execute_result"
    }
   ],
   "source": [
    "l"
   ]
  },
  {
   "cell_type": "code",
   "execution_count": 40,
   "id": "743af711-d3db-4f63-9b0e-70dfa0aa7e49",
   "metadata": {},
   "outputs": [
    {
     "data": {
      "text/plain": [
       "[101, 103, 11]"
      ]
     },
     "execution_count": 40,
     "metadata": {},
     "output_type": "execute_result"
    }
   ],
   "source": [
    "l[::2]"
   ]
  },
  {
   "cell_type": "markdown",
   "id": "bcfb5c4c-21b8-4c08-a6ed-a6db98bc15fa",
   "metadata": {},
   "source": [
    "#### delete an item"
   ]
  },
  {
   "cell_type": "code",
   "execution_count": 45,
   "id": "6b13c709-eb47-4850-a862-2a85ce85eb08",
   "metadata": {},
   "outputs": [
    {
     "data": {
      "text/plain": [
       "[101, 102, 103, 67, 11]"
      ]
     },
     "execution_count": 45,
     "metadata": {},
     "output_type": "execute_result"
    }
   ],
   "source": [
    "l"
   ]
  },
  {
   "cell_type": "code",
   "execution_count": 47,
   "id": "3ee49278-71ad-4c14-9ec6-a7141bbaa7fe",
   "metadata": {},
   "outputs": [],
   "source": [
    "del l[2]"
   ]
  },
  {
   "cell_type": "code",
   "execution_count": 49,
   "id": "2a6dd51f-d002-41ec-a423-c3b57f9cd440",
   "metadata": {},
   "outputs": [
    {
     "data": {
      "text/plain": [
       "[101, 102, 67, 11]"
      ]
     },
     "execution_count": 49,
     "metadata": {},
     "output_type": "execute_result"
    }
   ],
   "source": [
    "l"
   ]
  },
  {
   "cell_type": "code",
   "execution_count": 51,
   "id": "8489fefa-8f79-4a02-9e4b-d583a90f8b2e",
   "metadata": {},
   "outputs": [],
   "source": [
    "del l"
   ]
  },
  {
   "cell_type": "code",
   "execution_count": 53,
   "id": "c0853232-5d59-4327-9db1-59734f4c27d0",
   "metadata": {},
   "outputs": [
    {
     "ename": "NameError",
     "evalue": "name 'l' is not defined",
     "output_type": "error",
     "traceback": [
      "\u001b[0;31m---------------------------------------------------------------------------\u001b[0m",
      "\u001b[0;31mNameError\u001b[0m                                 Traceback (most recent call last)",
      "Cell \u001b[0;32mIn[53], line 1\u001b[0m\n\u001b[0;32m----> 1\u001b[0m l\n",
      "\u001b[0;31mNameError\u001b[0m: name 'l' is not defined"
     ]
    }
   ],
   "source": [
    "l"
   ]
  },
  {
   "cell_type": "markdown",
   "id": "63887dfc-a25c-4754-8c82-f5195c10cbe2",
   "metadata": {},
   "source": [
    "#### in operator"
   ]
  },
  {
   "cell_type": "code",
   "execution_count": 58,
   "id": "04e363b2-87c4-4289-afd8-ee1eaf9d2d7d",
   "metadata": {},
   "outputs": [],
   "source": [
    "num = [12, 34, 56, 21, 20, 70]"
   ]
  },
  {
   "cell_type": "code",
   "execution_count": 60,
   "id": "c7afbc92-4c95-4067-b06e-3f9a44e34f4b",
   "metadata": {},
   "outputs": [
    {
     "data": {
      "text/plain": [
       "True"
      ]
     },
     "execution_count": 60,
     "metadata": {},
     "output_type": "execute_result"
    }
   ],
   "source": [
    "56 in num"
   ]
  },
  {
   "cell_type": "code",
   "execution_count": 62,
   "id": "d2cdaee8-cc31-4420-9a63-08842f5d2a59",
   "metadata": {},
   "outputs": [
    {
     "data": {
      "text/plain": [
       "False"
      ]
     },
     "execution_count": 62,
     "metadata": {},
     "output_type": "execute_result"
    }
   ],
   "source": [
    "10000 in num"
   ]
  },
  {
   "cell_type": "code",
   "execution_count": 64,
   "id": "694a085d-7773-4650-8374-f7eda1f7a2ad",
   "metadata": {},
   "outputs": [],
   "source": [
    "# arithmetic operations"
   ]
  },
  {
   "cell_type": "code",
   "execution_count": 68,
   "id": "399c1716-8bef-4670-8f04-97389b0f965b",
   "metadata": {},
   "outputs": [
    {
     "data": {
      "text/plain": [
       "[12, 34, 56, 21, 20, 70]"
      ]
     },
     "execution_count": 68,
     "metadata": {},
     "output_type": "execute_result"
    }
   ],
   "source": [
    "num"
   ]
  },
  {
   "cell_type": "code",
   "execution_count": 70,
   "id": "5ef12da3-520a-48f7-a9b5-5b0bb41ef0b4",
   "metadata": {},
   "outputs": [
    {
     "data": {
      "text/plain": [
       "[12, 34, 56, 21, 20, 70, 12, 34, 56, 21, 20, 70]"
      ]
     },
     "execution_count": 70,
     "metadata": {},
     "output_type": "execute_result"
    }
   ],
   "source": [
    "num * 2"
   ]
  },
  {
   "cell_type": "code",
   "execution_count": 72,
   "id": "32b121cb-b4d0-4b1d-904a-773d68a24420",
   "metadata": {},
   "outputs": [
    {
     "data": {
      "text/plain": [
       "[12, 34, 56, 21, 20, 70, 12, 34]"
      ]
     },
     "execution_count": 72,
     "metadata": {},
     "output_type": "execute_result"
    }
   ],
   "source": [
    "num + [12, 34]"
   ]
  },
  {
   "cell_type": "code",
   "execution_count": 74,
   "id": "e685b14a-bffe-4c5e-8b92-00de639fbc8f",
   "metadata": {},
   "outputs": [],
   "source": [
    "mydata = [12, 34, 'Rishi', 88.91]"
   ]
  },
  {
   "cell_type": "code",
   "execution_count": 76,
   "id": "f6236abb-2e89-499d-b5f1-e8204fe007dd",
   "metadata": {},
   "outputs": [
    {
     "data": {
      "text/plain": [
       "[12, 34, 56, 21, 20, 70, 12, 34, 'Rishi', 88.91]"
      ]
     },
     "execution_count": 76,
     "metadata": {},
     "output_type": "execute_result"
    }
   ],
   "source": [
    "num + mydata"
   ]
  },
  {
   "cell_type": "code",
   "execution_count": 78,
   "id": "e88174f6-e968-4202-a105-d33b27bb9615",
   "metadata": {},
   "outputs": [],
   "source": [
    "# iterate and print only odd numbers"
   ]
  },
  {
   "cell_type": "code",
   "execution_count": 80,
   "id": "33b8a74f-a526-4b65-9666-bf1a796a3388",
   "metadata": {},
   "outputs": [],
   "source": [
    "num = [12, 34, 21, 25, 65, 43, 44, 66]"
   ]
  },
  {
   "cell_type": "code",
   "execution_count": 84,
   "id": "bec08410-92ab-46c5-9131-449a0d773316",
   "metadata": {},
   "outputs": [
    {
     "name": "stdout",
     "output_type": "stream",
     "text": [
      "21 25 65 43 "
     ]
    }
   ],
   "source": [
    "for i in num:\n",
    "    if i % 2 == 1:\n",
    "        print(i, end = ' ')"
   ]
  },
  {
   "cell_type": "markdown",
   "id": "bc553d28-dd93-464c-a406-b93a797a377d",
   "metadata": {},
   "source": [
    "#### list comprehension"
   ]
  },
  {
   "cell_type": "code",
   "execution_count": 91,
   "id": "e465e26d-1a99-41f3-b5e3-0613e6f85bad",
   "metadata": {},
   "outputs": [
    {
     "data": {
      "text/plain": [
       "[12, 34, 21, 25, 65, 43, 44, 66]"
      ]
     },
     "execution_count": 91,
     "metadata": {},
     "output_type": "execute_result"
    }
   ],
   "source": [
    "num"
   ]
  },
  {
   "cell_type": "code",
   "execution_count": 87,
   "id": "3147304c-b1f3-4e9b-aecb-adacab314bf3",
   "metadata": {},
   "outputs": [],
   "source": [
    "new = [x/2 for x in num] # map"
   ]
  },
  {
   "cell_type": "code",
   "execution_count": 89,
   "id": "03524f86-ce75-4f6a-bc0b-15b90e5ddaf5",
   "metadata": {},
   "outputs": [
    {
     "data": {
      "text/plain": [
       "[6.0, 17.0, 10.5, 12.5, 32.5, 21.5, 22.0, 33.0]"
      ]
     },
     "execution_count": 89,
     "metadata": {},
     "output_type": "execute_result"
    }
   ],
   "source": [
    "new"
   ]
  },
  {
   "cell_type": "code",
   "execution_count": 95,
   "id": "0a9109d8-6508-4c85-a8e5-11bda5001e77",
   "metadata": {},
   "outputs": [
    {
     "data": {
      "text/plain": [
       "[144, 1156, 441, 625, 4225, 1849, 1936, 4356]"
      ]
     },
     "execution_count": 95,
     "metadata": {},
     "output_type": "execute_result"
    }
   ],
   "source": [
    "new = [x**2 for x in num]\n",
    "new"
   ]
  },
  {
   "cell_type": "code",
   "execution_count": 97,
   "id": "31c57ad7-7f59-4d32-b7a3-bc5473b17ab6",
   "metadata": {},
   "outputs": [
    {
     "data": {
      "text/plain": [
       "[12, 34, 21, 25, 65, 43, 44, 66]"
      ]
     },
     "execution_count": 97,
     "metadata": {},
     "output_type": "execute_result"
    }
   ],
   "source": [
    "num"
   ]
  },
  {
   "cell_type": "code",
   "execution_count": 99,
   "id": "e604fa74-d768-4d38-99a3-733206086678",
   "metadata": {},
   "outputs": [
    {
     "data": {
      "text/plain": [
       "[21, 25, 65, 43]"
      ]
     },
     "execution_count": 99,
     "metadata": {},
     "output_type": "execute_result"
    }
   ],
   "source": [
    "# filter\n",
    "\n",
    "new = [x for x in num if x % 2 == 1]\n",
    "new"
   ]
  },
  {
   "cell_type": "code",
   "execution_count": 101,
   "id": "627f0ddb-c64c-4ca3-97de-21f8f4a40bcb",
   "metadata": {},
   "outputs": [],
   "source": [
    "names = ['sahil', 'chirag', 'rugved', 'rutuja', 'aditi', 'prasad']"
   ]
  },
  {
   "cell_type": "code",
   "execution_count": 103,
   "id": "4cda2a6d-30e8-429e-a754-39d0bc5c4fec",
   "metadata": {},
   "outputs": [],
   "source": [
    "new = [x for x in names if x.startswith('r')]"
   ]
  },
  {
   "cell_type": "code",
   "execution_count": 105,
   "id": "cc31e7de-1776-458d-9dfb-5f3e9fee4898",
   "metadata": {},
   "outputs": [
    {
     "data": {
      "text/plain": [
       "['rugved', 'rutuja']"
      ]
     },
     "execution_count": 105,
     "metadata": {},
     "output_type": "execute_result"
    }
   ],
   "source": [
    "new"
   ]
  },
  {
   "cell_type": "code",
   "execution_count": 107,
   "id": "473dc5ef-1ee0-49b8-9578-dc23aab05ea3",
   "metadata": {},
   "outputs": [],
   "source": [
    "# empty list"
   ]
  },
  {
   "cell_type": "code",
   "execution_count": 109,
   "id": "83c1a674-321e-4eab-a0b9-3726db5365f9",
   "metadata": {},
   "outputs": [],
   "source": [
    "e = []"
   ]
  },
  {
   "cell_type": "code",
   "execution_count": 111,
   "id": "6e410e35-4008-4a5e-9ab1-b80045cebfca",
   "metadata": {},
   "outputs": [
    {
     "ename": "IndexError",
     "evalue": "list index out of range",
     "output_type": "error",
     "traceback": [
      "\u001b[0;31m---------------------------------------------------------------------------\u001b[0m",
      "\u001b[0;31mIndexError\u001b[0m                                Traceback (most recent call last)",
      "Cell \u001b[0;32mIn[111], line 1\u001b[0m\n\u001b[0;32m----> 1\u001b[0m e[\u001b[38;5;241m0\u001b[39m]\n",
      "\u001b[0;31mIndexError\u001b[0m: list index out of range"
     ]
    }
   ],
   "source": [
    "e[0]"
   ]
  },
  {
   "cell_type": "code",
   "execution_count": 113,
   "id": "75698fb7-5ba7-4dc8-933a-7a693d23b45f",
   "metadata": {},
   "outputs": [],
   "source": [
    "# decompose the list"
   ]
  },
  {
   "cell_type": "code",
   "execution_count": 115,
   "id": "b9bd987a-b908-45ba-aa42-d9ca5cd474e3",
   "metadata": {},
   "outputs": [],
   "source": [
    "ml = [12, 24, 15]"
   ]
  },
  {
   "cell_type": "code",
   "execution_count": 117,
   "id": "251e9a6f-53f2-4511-ae39-7712ce2b4d77",
   "metadata": {},
   "outputs": [],
   "source": [
    "x, y, z = ml"
   ]
  },
  {
   "cell_type": "code",
   "execution_count": 119,
   "id": "c130fa8b-3383-449e-a842-a4f15059606e",
   "metadata": {},
   "outputs": [
    {
     "data": {
      "text/plain": [
       "12"
      ]
     },
     "execution_count": 119,
     "metadata": {},
     "output_type": "execute_result"
    }
   ],
   "source": [
    "x"
   ]
  },
  {
   "cell_type": "code",
   "execution_count": 121,
   "id": "b5ae82ae-7c09-4898-bee5-aa0b7f7b64f1",
   "metadata": {},
   "outputs": [
    {
     "data": {
      "text/plain": [
       "24"
      ]
     },
     "execution_count": 121,
     "metadata": {},
     "output_type": "execute_result"
    }
   ],
   "source": [
    "y"
   ]
  },
  {
   "cell_type": "code",
   "execution_count": 123,
   "id": "0de73340-9e36-4619-b5c2-4522b026276f",
   "metadata": {},
   "outputs": [],
   "source": [
    "# functions"
   ]
  },
  {
   "cell_type": "code",
   "execution_count": 125,
   "id": "8e2d50da-14fb-40d6-9f2a-b790073540a5",
   "metadata": {},
   "outputs": [
    {
     "data": {
      "text/plain": [
       "[12, 34, 21, 25, 65, 43, 44, 66]"
      ]
     },
     "execution_count": 125,
     "metadata": {},
     "output_type": "execute_result"
    }
   ],
   "source": [
    "num"
   ]
  },
  {
   "cell_type": "code",
   "execution_count": 127,
   "id": "2583c092-cf90-44be-8923-b34444443914",
   "metadata": {},
   "outputs": [
    {
     "data": {
      "text/plain": [
       "8"
      ]
     },
     "execution_count": 127,
     "metadata": {},
     "output_type": "execute_result"
    }
   ],
   "source": [
    "len(num)"
   ]
  },
  {
   "cell_type": "code",
   "execution_count": 129,
   "id": "5b6cc999-458a-4f04-8aec-03f73f2e19a3",
   "metadata": {},
   "outputs": [
    {
     "data": {
      "text/plain": [
       "66"
      ]
     },
     "execution_count": 129,
     "metadata": {},
     "output_type": "execute_result"
    }
   ],
   "source": [
    "max(num)"
   ]
  },
  {
   "cell_type": "code",
   "execution_count": 133,
   "id": "088229a6-cc08-4e09-996b-6a79d0bf850d",
   "metadata": {},
   "outputs": [
    {
     "data": {
      "text/plain": [
       "[12, 21, 25, 34, 43, 44, 65, 66]"
      ]
     },
     "execution_count": 133,
     "metadata": {},
     "output_type": "execute_result"
    }
   ],
   "source": [
    "sorted(num)"
   ]
  },
  {
   "cell_type": "code",
   "execution_count": 137,
   "id": "a7628873-eca0-4c53-b787-4ae72849fac2",
   "metadata": {},
   "outputs": [
    {
     "data": {
      "text/plain": [
       "[66, 65, 44, 43, 34, 25, 21, 12]"
      ]
     },
     "execution_count": 137,
     "metadata": {},
     "output_type": "execute_result"
    }
   ],
   "source": [
    "sorted(num, reverse= True)"
   ]
  },
  {
   "cell_type": "markdown",
   "id": "f32a3bbf-1419-4b68-9e9e-6a3d34403680",
   "metadata": {},
   "source": [
    "#### methods on list"
   ]
  },
  {
   "cell_type": "code",
   "execution_count": 140,
   "id": "d5cff90b-59fc-4525-a164-88f7b76cc3f2",
   "metadata": {},
   "outputs": [
    {
     "data": {
      "text/plain": [
       "[12, 34, 21, 25, 65, 43, 44, 66]"
      ]
     },
     "execution_count": 140,
     "metadata": {},
     "output_type": "execute_result"
    }
   ],
   "source": [
    "num"
   ]
  },
  {
   "cell_type": "code",
   "execution_count": 142,
   "id": "63e0b149-fc0e-4448-98f4-02da930cd557",
   "metadata": {},
   "outputs": [],
   "source": [
    "num.append(100)"
   ]
  },
  {
   "cell_type": "code",
   "execution_count": 144,
   "id": "9192d773-f99d-4685-83d6-f93d0bbeca13",
   "metadata": {},
   "outputs": [
    {
     "data": {
      "text/plain": [
       "[12, 34, 21, 25, 65, 43, 44, 66, 100]"
      ]
     },
     "execution_count": 144,
     "metadata": {},
     "output_type": "execute_result"
    }
   ],
   "source": [
    "num"
   ]
  },
  {
   "cell_type": "code",
   "execution_count": 146,
   "id": "72b372bb-076d-4414-a027-10c63cadc10f",
   "metadata": {},
   "outputs": [],
   "source": [
    "# append and extend"
   ]
  },
  {
   "cell_type": "code",
   "execution_count": 148,
   "id": "16081530-c803-4acb-9b2d-a470c3e0e650",
   "metadata": {},
   "outputs": [],
   "source": [
    "num1 = [12, 13, 14]\n",
    "num2 = [12, 13, 14]"
   ]
  },
  {
   "cell_type": "code",
   "execution_count": 150,
   "id": "ba8b0279-9d75-46cc-bade-dd6def81ac3a",
   "metadata": {},
   "outputs": [],
   "source": [
    "num1.append([10,100])\n",
    "num2.extend([10,100])"
   ]
  },
  {
   "cell_type": "code",
   "execution_count": 152,
   "id": "28b6d545-07e8-4c42-83a0-73ee2b05f34b",
   "metadata": {},
   "outputs": [
    {
     "data": {
      "text/plain": [
       "[12, 13, 14, [10, 100]]"
      ]
     },
     "execution_count": 152,
     "metadata": {},
     "output_type": "execute_result"
    }
   ],
   "source": [
    "num1"
   ]
  },
  {
   "cell_type": "code",
   "execution_count": 154,
   "id": "a57d6862-3292-4404-91eb-f39c34a18cba",
   "metadata": {},
   "outputs": [
    {
     "data": {
      "text/plain": [
       "[12, 13, 14, 10, 100]"
      ]
     },
     "execution_count": 154,
     "metadata": {},
     "output_type": "execute_result"
    }
   ],
   "source": [
    "num2"
   ]
  },
  {
   "cell_type": "code",
   "execution_count": 158,
   "id": "441d8067-b7da-4e02-a591-f7c5ca266fbe",
   "metadata": {},
   "outputs": [
    {
     "data": {
      "text/plain": [
       "100"
      ]
     },
     "execution_count": 158,
     "metadata": {},
     "output_type": "execute_result"
    }
   ],
   "source": [
    "num1[3][1]"
   ]
  },
  {
   "cell_type": "code",
   "execution_count": 160,
   "id": "10ccaea7-4627-40f3-a84a-c013ec8a2a71",
   "metadata": {},
   "outputs": [],
   "source": [
    "# copy"
   ]
  },
  {
   "cell_type": "code",
   "execution_count": 162,
   "id": "0042da03-015b-4499-9d3d-cebd7c54b5db",
   "metadata": {},
   "outputs": [
    {
     "data": {
      "text/plain": [
       "[12, 34, 21, 25, 65, 43, 44, 66, 100]"
      ]
     },
     "execution_count": 162,
     "metadata": {},
     "output_type": "execute_result"
    }
   ],
   "source": [
    "num"
   ]
  },
  {
   "cell_type": "code",
   "execution_count": 164,
   "id": "58b3ca84-baf7-4a79-a2b4-85faa2beb586",
   "metadata": {},
   "outputs": [],
   "source": [
    "n = num"
   ]
  },
  {
   "cell_type": "code",
   "execution_count": 166,
   "id": "f770442d-75cd-426a-b6f0-88e9dae9bc10",
   "metadata": {},
   "outputs": [
    {
     "data": {
      "text/plain": [
       "[12, 34, 21, 25, 65, 43, 44, 66, 100]"
      ]
     },
     "execution_count": 166,
     "metadata": {},
     "output_type": "execute_result"
    }
   ],
   "source": [
    "n"
   ]
  },
  {
   "cell_type": "code",
   "execution_count": 168,
   "id": "38519d03-0102-4425-bc94-87f4ab620947",
   "metadata": {},
   "outputs": [],
   "source": [
    "num[-1] = 1"
   ]
  },
  {
   "cell_type": "code",
   "execution_count": 170,
   "id": "57fcf8ea-9a39-48b8-befd-23d56cfd7d71",
   "metadata": {},
   "outputs": [
    {
     "data": {
      "text/plain": [
       "[12, 34, 21, 25, 65, 43, 44, 66, 1]"
      ]
     },
     "execution_count": 170,
     "metadata": {},
     "output_type": "execute_result"
    }
   ],
   "source": [
    "num"
   ]
  },
  {
   "cell_type": "code",
   "execution_count": 172,
   "id": "61aaea9f-90b9-45da-ad68-dfbec02e10e8",
   "metadata": {},
   "outputs": [
    {
     "data": {
      "text/plain": [
       "[12, 34, 21, 25, 65, 43, 44, 66, 1]"
      ]
     },
     "execution_count": 172,
     "metadata": {},
     "output_type": "execute_result"
    }
   ],
   "source": [
    "n"
   ]
  },
  {
   "cell_type": "code",
   "execution_count": 174,
   "id": "779656ca-b4ba-483e-8ddf-f2fa34929ed9",
   "metadata": {},
   "outputs": [
    {
     "data": {
      "text/plain": [
       "[12, 34, 21, 25, 65, 43, 44, 66, 1]"
      ]
     },
     "execution_count": 174,
     "metadata": {},
     "output_type": "execute_result"
    }
   ],
   "source": [
    "num"
   ]
  },
  {
   "cell_type": "code",
   "execution_count": 176,
   "id": "64cad817-6bf6-497c-ac86-d383c2aa41b1",
   "metadata": {},
   "outputs": [],
   "source": [
    "n = num.copy()"
   ]
  },
  {
   "cell_type": "code",
   "execution_count": 178,
   "id": "773877f2-14f5-443b-956a-7bdcd442ea11",
   "metadata": {},
   "outputs": [],
   "source": [
    "num[-1] = 100"
   ]
  },
  {
   "cell_type": "code",
   "execution_count": 180,
   "id": "60488965-076f-4dd8-9122-cc7685bd3eb8",
   "metadata": {},
   "outputs": [
    {
     "data": {
      "text/plain": [
       "[12, 34, 21, 25, 65, 43, 44, 66, 100]"
      ]
     },
     "execution_count": 180,
     "metadata": {},
     "output_type": "execute_result"
    }
   ],
   "source": [
    "num"
   ]
  },
  {
   "cell_type": "code",
   "execution_count": 182,
   "id": "2ed0756c-4c81-4004-85dd-4c697a3a31c0",
   "metadata": {},
   "outputs": [
    {
     "data": {
      "text/plain": [
       "[12, 34, 21, 25, 65, 43, 44, 66, 1]"
      ]
     },
     "execution_count": 182,
     "metadata": {},
     "output_type": "execute_result"
    }
   ],
   "source": [
    "n"
   ]
  },
  {
   "cell_type": "code",
   "execution_count": 184,
   "id": "1fae6258-e23a-4e1e-84be-92e66660789d",
   "metadata": {},
   "outputs": [],
   "source": [
    "num = [12, 34, 45, 67, [32, 100], 67]"
   ]
  },
  {
   "cell_type": "code",
   "execution_count": 186,
   "id": "250ccbad-bc10-4045-a7db-75cd506b7bf9",
   "metadata": {},
   "outputs": [],
   "source": [
    "n = num.copy()"
   ]
  },
  {
   "cell_type": "code",
   "execution_count": 188,
   "id": "93c2dc2e-b4e5-4d34-94c6-87265c815c91",
   "metadata": {},
   "outputs": [],
   "source": [
    "num[-2][-1] = 1"
   ]
  },
  {
   "cell_type": "code",
   "execution_count": 190,
   "id": "c6433080-711e-4ad7-8c7f-aadffaed1e90",
   "metadata": {},
   "outputs": [
    {
     "data": {
      "text/plain": [
       "[12, 34, 45, 67, [32, 1], 67]"
      ]
     },
     "execution_count": 190,
     "metadata": {},
     "output_type": "execute_result"
    }
   ],
   "source": [
    "num"
   ]
  },
  {
   "cell_type": "code",
   "execution_count": 192,
   "id": "4f579036-c368-4267-a319-9a0009866045",
   "metadata": {},
   "outputs": [
    {
     "data": {
      "text/plain": [
       "[12, 34, 45, 67, [32, 1], 67]"
      ]
     },
     "execution_count": 192,
     "metadata": {},
     "output_type": "execute_result"
    }
   ],
   "source": [
    "n"
   ]
  },
  {
   "cell_type": "code",
   "execution_count": 194,
   "id": "d9e2d00c-2479-4aeb-b037-623b24482233",
   "metadata": {},
   "outputs": [],
   "source": [
    "# insert"
   ]
  },
  {
   "cell_type": "code",
   "execution_count": 196,
   "id": "0a6b14c5-5259-4b85-9517-f0e145e5e551",
   "metadata": {},
   "outputs": [
    {
     "data": {
      "text/plain": [
       "[12, 34, 45, 67, [32, 1], 67]"
      ]
     },
     "execution_count": 196,
     "metadata": {},
     "output_type": "execute_result"
    }
   ],
   "source": [
    "num"
   ]
  },
  {
   "cell_type": "code",
   "execution_count": 198,
   "id": "5264af0d-74e9-41f9-9da3-0886d8687063",
   "metadata": {},
   "outputs": [],
   "source": [
    "num.insert(3, 20)"
   ]
  },
  {
   "cell_type": "code",
   "execution_count": 200,
   "id": "024b9df7-02a3-4785-a337-0635a7be0ba9",
   "metadata": {},
   "outputs": [
    {
     "data": {
      "text/plain": [
       "[12, 34, 45, 20, 67, [32, 1], 67]"
      ]
     },
     "execution_count": 200,
     "metadata": {},
     "output_type": "execute_result"
    }
   ],
   "source": [
    "num"
   ]
  },
  {
   "cell_type": "code",
   "execution_count": 202,
   "id": "2d5eb7c9-75f2-4ce0-b75c-4da756c730ca",
   "metadata": {},
   "outputs": [],
   "source": [
    "num.remove(20)"
   ]
  },
  {
   "cell_type": "code",
   "execution_count": 204,
   "id": "37cbfb07-879d-4d7b-b51b-693feee8758c",
   "metadata": {},
   "outputs": [
    {
     "data": {
      "text/plain": [
       "[12, 34, 45, 67, [32, 1], 67]"
      ]
     },
     "execution_count": 204,
     "metadata": {},
     "output_type": "execute_result"
    }
   ],
   "source": [
    "num"
   ]
  },
  {
   "cell_type": "code",
   "execution_count": 206,
   "id": "d7fdc5f5-2979-4734-abad-c6c0e3486abe",
   "metadata": {},
   "outputs": [
    {
     "data": {
      "text/plain": [
       "[32, 1]"
      ]
     },
     "execution_count": 206,
     "metadata": {},
     "output_type": "execute_result"
    }
   ],
   "source": [
    "num.pop(-2)"
   ]
  },
  {
   "cell_type": "code",
   "execution_count": 208,
   "id": "93cb55e9-3518-45c5-8f6a-b677ad47d247",
   "metadata": {},
   "outputs": [
    {
     "data": {
      "text/plain": [
       "[12, 34, 45, 67, 67]"
      ]
     },
     "execution_count": 208,
     "metadata": {},
     "output_type": "execute_result"
    }
   ],
   "source": [
    "num"
   ]
  },
  {
   "cell_type": "code",
   "execution_count": 210,
   "id": "0befef03-bfd0-4bd4-8640-48f758345d5f",
   "metadata": {},
   "outputs": [
    {
     "data": {
      "text/plain": [
       "1"
      ]
     },
     "execution_count": 210,
     "metadata": {},
     "output_type": "execute_result"
    }
   ],
   "source": [
    "num.count(12)"
   ]
  },
  {
   "cell_type": "code",
   "execution_count": 212,
   "id": "5b0b886a-d606-444a-85c6-cc6486adb4eb",
   "metadata": {},
   "outputs": [
    {
     "data": {
      "text/plain": [
       "[12, 34, 45, 67, 67]"
      ]
     },
     "execution_count": 212,
     "metadata": {},
     "output_type": "execute_result"
    }
   ],
   "source": [
    "num"
   ]
  },
  {
   "cell_type": "code",
   "execution_count": 214,
   "id": "cd6e8b77-6594-48ce-a94e-f2c69493c920",
   "metadata": {},
   "outputs": [],
   "source": [
    "num.clear()"
   ]
  },
  {
   "cell_type": "code",
   "execution_count": 216,
   "id": "9ce81012-e571-4fde-ac1b-45a7fe82f387",
   "metadata": {},
   "outputs": [
    {
     "data": {
      "text/plain": [
       "[]"
      ]
     },
     "execution_count": 216,
     "metadata": {},
     "output_type": "execute_result"
    }
   ],
   "source": [
    "num"
   ]
  },
  {
   "cell_type": "code",
   "execution_count": 218,
   "id": "a15a1dde-af7e-449b-8a45-01affa8fc46f",
   "metadata": {},
   "outputs": [],
   "source": [
    "# create a list by taking inputs from user\n",
    "# have to specify how many elements ? and those elements"
   ]
  },
  {
   "cell_type": "code",
   "execution_count": 226,
   "id": "87123944-b283-44fe-ac5b-5ecc187b1feb",
   "metadata": {},
   "outputs": [
    {
     "name": "stdin",
     "output_type": "stream",
     "text": [
      "How many elements 2\n",
      "Enter the element 100\n",
      "Enter the element 200\n"
     ]
    },
    {
     "name": "stdout",
     "output_type": "stream",
     "text": [
      "List is: [100, 200]\n"
     ]
    }
   ],
   "source": [
    "e = []\n",
    "\n",
    "count = int(input('How many elements'))\n",
    "\n",
    "for n in range(count):\n",
    "    element = int(input('Enter the element'))\n",
    "    e.append(element)\n",
    "\n",
    "print('List is:', e)"
   ]
  },
  {
   "cell_type": "code",
   "execution_count": 228,
   "id": "10110d0d-f152-429f-918e-07591472070f",
   "metadata": {},
   "outputs": [
    {
     "data": {
      "text/plain": [
       "[100, 200]"
      ]
     },
     "execution_count": 228,
     "metadata": {},
     "output_type": "execute_result"
    }
   ],
   "source": [
    "e"
   ]
  },
  {
   "cell_type": "markdown",
   "id": "75491a8d-8c52-4755-9191-af738fa13738",
   "metadata": {},
   "source": [
    "### tuple"
   ]
  },
  {
   "cell_type": "code",
   "execution_count": 231,
   "id": "24b2b51f-9cdc-4b46-9f20-28e68380b931",
   "metadata": {},
   "outputs": [],
   "source": [
    "t = (12, 34, 56)"
   ]
  },
  {
   "cell_type": "code",
   "execution_count": 233,
   "id": "07ce3a73-f780-4715-9b01-09f04bf3ef87",
   "metadata": {},
   "outputs": [],
   "source": [
    "t1 = (12, 34.44, 'Adi')"
   ]
  },
  {
   "cell_type": "code",
   "execution_count": 237,
   "id": "fecf9a37-34d5-4d2a-8148-80a96c70c624",
   "metadata": {},
   "outputs": [
    {
     "data": {
      "text/plain": [
       "(12, 34.44, 'Adi')"
      ]
     },
     "execution_count": 237,
     "metadata": {},
     "output_type": "execute_result"
    }
   ],
   "source": [
    "t1 # hetero"
   ]
  },
  {
   "cell_type": "code",
   "execution_count": 239,
   "id": "b81ce68c-00c1-4ed0-845b-e7bd0716bf7d",
   "metadata": {},
   "outputs": [],
   "source": [
    "t2 = (12, 12, 34, 56)"
   ]
  },
  {
   "cell_type": "code",
   "execution_count": 243,
   "id": "58100eb7-5227-4b09-b3e0-e0fa88c75b7b",
   "metadata": {},
   "outputs": [
    {
     "data": {
      "text/plain": [
       "(12, 12, 34, 56)"
      ]
     },
     "execution_count": 243,
     "metadata": {},
     "output_type": "execute_result"
    }
   ],
   "source": [
    "t2 # duplicates are allowed"
   ]
  },
  {
   "cell_type": "code",
   "execution_count": 245,
   "id": "b86d41f7-5be4-4d12-84bb-1bdfa664c4d8",
   "metadata": {},
   "outputs": [
    {
     "data": {
      "text/plain": [
       "12"
      ]
     },
     "execution_count": 245,
     "metadata": {},
     "output_type": "execute_result"
    }
   ],
   "source": [
    "t2[1] # ordered"
   ]
  },
  {
   "cell_type": "code",
   "execution_count": 247,
   "id": "370e9db3-a766-4129-a158-81e30077c206",
   "metadata": {},
   "outputs": [
    {
     "data": {
      "text/plain": [
       "(12, 34, 56)"
      ]
     },
     "execution_count": 247,
     "metadata": {},
     "output_type": "execute_result"
    }
   ],
   "source": [
    "t"
   ]
  },
  {
   "cell_type": "code",
   "execution_count": 251,
   "id": "73e2d5f8-b0ca-4804-967c-bbfa3f4b4bac",
   "metadata": {},
   "outputs": [
    {
     "ename": "TypeError",
     "evalue": "'tuple' object does not support item assignment",
     "output_type": "error",
     "traceback": [
      "\u001b[0;31m---------------------------------------------------------------------------\u001b[0m",
      "\u001b[0;31mTypeError\u001b[0m                                 Traceback (most recent call last)",
      "Cell \u001b[0;32mIn[251], line 1\u001b[0m\n\u001b[0;32m----> 1\u001b[0m t[\u001b[38;5;241m0\u001b[39m] \u001b[38;5;241m=\u001b[39m \u001b[38;5;241m100\u001b[39m\n",
      "\u001b[0;31mTypeError\u001b[0m: 'tuple' object does not support item assignment"
     ]
    }
   ],
   "source": [
    "t[0] = 100 # immutable"
   ]
  },
  {
   "cell_type": "code",
   "execution_count": 253,
   "id": "d16b8a69-68e5-48b4-b3ba-7d629bf46ec6",
   "metadata": {},
   "outputs": [],
   "source": [
    "t = (12, 34, 56, 78, 10)"
   ]
  },
  {
   "cell_type": "code",
   "execution_count": 255,
   "id": "8d3574f2-0fe6-445a-897a-ee4ef68cc687",
   "metadata": {},
   "outputs": [
    {
     "data": {
      "text/plain": [
       "[12, 34, 56, 78, 10]"
      ]
     },
     "execution_count": 255,
     "metadata": {},
     "output_type": "execute_result"
    }
   ],
   "source": [
    "l = list(t)\n",
    "l"
   ]
  },
  {
   "cell_type": "code",
   "execution_count": 257,
   "id": "61599a1b-6a58-4bf3-9a77-c3128522ce9b",
   "metadata": {},
   "outputs": [],
   "source": [
    "l[2] = 100"
   ]
  },
  {
   "cell_type": "code",
   "execution_count": 259,
   "id": "b893b7c6-a8d2-40f2-b70c-1f4f07cbc976",
   "metadata": {},
   "outputs": [
    {
     "data": {
      "text/plain": [
       "(12, 34, 100, 78, 10)"
      ]
     },
     "execution_count": 259,
     "metadata": {},
     "output_type": "execute_result"
    }
   ],
   "source": [
    "t = tuple(l)\n",
    "t"
   ]
  },
  {
   "cell_type": "code",
   "execution_count": 261,
   "id": "3e8596b4-b947-4cbd-a5fd-018f21416caa",
   "metadata": {},
   "outputs": [
    {
     "data": {
      "text/plain": [
       "1"
      ]
     },
     "execution_count": 261,
     "metadata": {},
     "output_type": "execute_result"
    }
   ],
   "source": [
    "t.count(12)"
   ]
  },
  {
   "cell_type": "code",
   "execution_count": 263,
   "id": "5e7e9b6f-1812-4d10-bc72-a38636c55649",
   "metadata": {},
   "outputs": [
    {
     "data": {
      "text/plain": [
       "1"
      ]
     },
     "execution_count": 263,
     "metadata": {},
     "output_type": "execute_result"
    }
   ],
   "source": [
    "t.index(34)"
   ]
  },
  {
   "cell_type": "markdown",
   "id": "9bdcae20-7dd7-4149-9a17-1f087df6a199",
   "metadata": {},
   "source": [
    "#### Set"
   ]
  },
  {
   "cell_type": "code",
   "execution_count": 266,
   "id": "3e8425b5-d64c-4558-9e6f-d9c2a3e41a11",
   "metadata": {},
   "outputs": [],
   "source": [
    "s = {12, 14, 12, 45, 50}"
   ]
  },
  {
   "cell_type": "code",
   "execution_count": 268,
   "id": "5c08dee5-da1c-4c22-aa10-6d03d80933ef",
   "metadata": {},
   "outputs": [
    {
     "data": {
      "text/plain": [
       "{12, 14, 45, 50}"
      ]
     },
     "execution_count": 268,
     "metadata": {},
     "output_type": "execute_result"
    }
   ],
   "source": [
    "s"
   ]
  },
  {
   "cell_type": "code",
   "execution_count": 270,
   "id": "c8e0f639-e3ff-4ef8-af47-b8ebcab7a44d",
   "metadata": {},
   "outputs": [
    {
     "ename": "TypeError",
     "evalue": "'set' object is not subscriptable",
     "output_type": "error",
     "traceback": [
      "\u001b[0;31m---------------------------------------------------------------------------\u001b[0m",
      "\u001b[0;31mTypeError\u001b[0m                                 Traceback (most recent call last)",
      "Cell \u001b[0;32mIn[270], line 1\u001b[0m\n\u001b[0;32m----> 1\u001b[0m s[\u001b[38;5;241m1\u001b[39m]\n",
      "\u001b[0;31mTypeError\u001b[0m: 'set' object is not subscriptable"
     ]
    }
   ],
   "source": [
    "s[1]"
   ]
  },
  {
   "cell_type": "code",
   "execution_count": 272,
   "id": "9ddd4f61-f22f-47f9-bd37-7fe9d00e6185",
   "metadata": {},
   "outputs": [
    {
     "data": {
      "text/plain": [
       "50"
      ]
     },
     "execution_count": 272,
     "metadata": {},
     "output_type": "execute_result"
    }
   ],
   "source": [
    "s.pop()"
   ]
  },
  {
   "cell_type": "code",
   "execution_count": 274,
   "id": "3dc8089b-9f60-412e-adec-d556f6b43416",
   "metadata": {},
   "outputs": [
    {
     "data": {
      "text/plain": [
       "{12, 14, 45}"
      ]
     },
     "execution_count": 274,
     "metadata": {},
     "output_type": "execute_result"
    }
   ],
   "source": [
    "s"
   ]
  },
  {
   "cell_type": "code",
   "execution_count": 276,
   "id": "49e4ac1e-c303-4224-89b8-87dfe671c788",
   "metadata": {},
   "outputs": [
    {
     "data": {
      "text/plain": [
       "{12, 14, 45}"
      ]
     },
     "execution_count": 276,
     "metadata": {},
     "output_type": "execute_result"
    }
   ],
   "source": [
    "s"
   ]
  },
  {
   "cell_type": "code",
   "execution_count": 278,
   "id": "ccbfae1b-f590-4f6a-9c3c-216294ca2dc8",
   "metadata": {},
   "outputs": [],
   "source": [
    "fs = frozenset(s)"
   ]
  },
  {
   "cell_type": "code",
   "execution_count": 280,
   "id": "fe18eac2-10b9-4170-a4ef-9b8f2ffcbf79",
   "metadata": {},
   "outputs": [
    {
     "data": {
      "text/plain": [
       "frozenset({12, 14, 45})"
      ]
     },
     "execution_count": 280,
     "metadata": {},
     "output_type": "execute_result"
    }
   ],
   "source": [
    "fs"
   ]
  },
  {
   "cell_type": "code",
   "execution_count": 282,
   "id": "a40be09e-29f1-4c09-905e-fdac6820fe22",
   "metadata": {},
   "outputs": [
    {
     "ename": "AttributeError",
     "evalue": "'frozenset' object has no attribute 'pop'",
     "output_type": "error",
     "traceback": [
      "\u001b[0;31m---------------------------------------------------------------------------\u001b[0m",
      "\u001b[0;31mAttributeError\u001b[0m                            Traceback (most recent call last)",
      "Cell \u001b[0;32mIn[282], line 1\u001b[0m\n\u001b[0;32m----> 1\u001b[0m fs\u001b[38;5;241m.\u001b[39mpop()\n",
      "\u001b[0;31mAttributeError\u001b[0m: 'frozenset' object has no attribute 'pop'"
     ]
    }
   ],
   "source": [
    "fs.pop()"
   ]
  },
  {
   "cell_type": "markdown",
   "id": "248c4f61-9240-4a66-b49f-bed6076b755e",
   "metadata": {},
   "source": [
    "#### dictionary"
   ]
  },
  {
   "cell_type": "code",
   "execution_count": 285,
   "id": "4bd0d928-abb3-43b2-ba11-a0e831204ea8",
   "metadata": {},
   "outputs": [],
   "source": [
    "d = {1: 'omkar', 2: 'tushar', 4:'adesh', 7: 'rugved'}"
   ]
  },
  {
   "cell_type": "code",
   "execution_count": 287,
   "id": "a8741efd-d9a3-43f4-a347-e95bec2fa467",
   "metadata": {},
   "outputs": [
    {
     "data": {
      "text/plain": [
       "{1: 'omkar', 2: 'tushar', 4: 'adesh', 7: 'rugved'}"
      ]
     },
     "execution_count": 287,
     "metadata": {},
     "output_type": "execute_result"
    }
   ],
   "source": [
    "d"
   ]
  },
  {
   "cell_type": "code",
   "execution_count": 289,
   "id": "ce181076-1b23-4c62-8f75-af757bba2038",
   "metadata": {},
   "outputs": [
    {
     "data": {
      "text/plain": [
       "'adesh'"
      ]
     },
     "execution_count": 289,
     "metadata": {},
     "output_type": "execute_result"
    }
   ],
   "source": [
    "d[4]"
   ]
  },
  {
   "cell_type": "code",
   "execution_count": 291,
   "id": "dea18f10-8330-4dfe-a18a-4b09d6dd8e66",
   "metadata": {},
   "outputs": [],
   "source": [
    "d[4] = 'aditi'"
   ]
  },
  {
   "cell_type": "code",
   "execution_count": 293,
   "id": "8ae4c09a-44b5-4acc-beac-a24e222f502a",
   "metadata": {},
   "outputs": [
    {
     "data": {
      "text/plain": [
       "{1: 'omkar', 2: 'tushar', 4: 'aditi', 7: 'rugved'}"
      ]
     },
     "execution_count": 293,
     "metadata": {},
     "output_type": "execute_result"
    }
   ],
   "source": [
    "d"
   ]
  },
  {
   "cell_type": "code",
   "execution_count": 295,
   "id": "5320f814-d3a1-4cd2-b867-f790caa1b4ea",
   "metadata": {},
   "outputs": [],
   "source": [
    "d[10] = 'adesh'"
   ]
  },
  {
   "cell_type": "code",
   "execution_count": 297,
   "id": "32a646b0-d84f-4f14-bbf2-a98f12bc2624",
   "metadata": {},
   "outputs": [
    {
     "data": {
      "text/plain": [
       "{1: 'omkar', 2: 'tushar', 4: 'aditi', 7: 'rugved', 10: 'adesh'}"
      ]
     },
     "execution_count": 297,
     "metadata": {},
     "output_type": "execute_result"
    }
   ],
   "source": [
    "d"
   ]
  },
  {
   "cell_type": "code",
   "execution_count": 301,
   "id": "12a584f1-095a-45d3-aacc-a0647203fd4c",
   "metadata": {},
   "outputs": [
    {
     "data": {
      "text/plain": [
       "dict_keys([1, 2, 4, 7, 10])"
      ]
     },
     "execution_count": 301,
     "metadata": {},
     "output_type": "execute_result"
    }
   ],
   "source": [
    "d.keys()"
   ]
  },
  {
   "cell_type": "code",
   "execution_count": 303,
   "id": "9617c0f8-a674-432b-8cd7-3e78ac4a308f",
   "metadata": {},
   "outputs": [
    {
     "data": {
      "text/plain": [
       "dict_values(['omkar', 'tushar', 'aditi', 'rugved', 'adesh'])"
      ]
     },
     "execution_count": 303,
     "metadata": {},
     "output_type": "execute_result"
    }
   ],
   "source": [
    "d.values()"
   ]
  },
  {
   "cell_type": "code",
   "execution_count": 309,
   "id": "b5b1f234-cd33-42c0-85b8-f35bdf3bfae4",
   "metadata": {},
   "outputs": [],
   "source": [
    "d[100]= ['riya', 'akash', 'natasha']"
   ]
  },
  {
   "cell_type": "code",
   "execution_count": 311,
   "id": "92f5dc91-7864-47a3-8cf6-07ca9a208bf2",
   "metadata": {},
   "outputs": [
    {
     "data": {
      "text/plain": [
       "{1: 'omkar',\n",
       " 2: 'tushar',\n",
       " 4: 'aditi',\n",
       " 7: 'rugved',\n",
       " 10: 'adesh',\n",
       " 100: ['riya', 'akash', 'natasha']}"
      ]
     },
     "execution_count": 311,
     "metadata": {},
     "output_type": "execute_result"
    }
   ],
   "source": [
    "d"
   ]
  },
  {
   "cell_type": "code",
   "execution_count": 313,
   "id": "b73726c1-5b97-45d6-906a-8bdcb456f495",
   "metadata": {},
   "outputs": [],
   "source": [
    "l = ['copper', 'gold', 'silver', 'platinum', 'copper', 'platinum']"
   ]
  },
  {
   "cell_type": "code",
   "execution_count": null,
   "id": "d2e12f00-e7aa-4607-8c77-d43006d9e895",
   "metadata": {},
   "outputs": [],
   "source": []
  }
 ],
 "metadata": {
  "kernelspec": {
   "display_name": "Python 3 (ipykernel)",
   "language": "python",
   "name": "python3"
  },
  "language_info": {
   "codemirror_mode": {
    "name": "ipython",
    "version": 3
   },
   "file_extension": ".py",
   "mimetype": "text/x-python",
   "name": "python",
   "nbconvert_exporter": "python",
   "pygments_lexer": "ipython3",
   "version": "3.11.9"
  }
 },
 "nbformat": 4,
 "nbformat_minor": 5
}
