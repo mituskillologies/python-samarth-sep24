{
 "cells": [
  {
   "cell_type": "code",
   "execution_count": 2,
   "id": "e5c88fd2-3f99-46eb-9902-38d7ee4a616d",
   "metadata": {},
   "outputs": [],
   "source": [
    "import tkinter as tk"
   ]
  },
  {
   "cell_type": "code",
   "execution_count": 40,
   "id": "917a6f89-2bb8-4c55-8226-e213afd79bb8",
   "metadata": {},
   "outputs": [],
   "source": [
    "top = tk.Tk()\n",
    "\n",
    "top.title('My Application')\n",
    "top.geometry('800x700')\n",
    "\n",
    "data = tk.IntVar()\n",
    "\n",
    "def sq():\n",
    "    num = data.get()\n",
    "    result = num * num\n",
    "    l1 = tk.Label(top, text = \"Square is %i\" %result).place(x= 300, y =500)\n",
    "\n",
    "l = tk.Label(top, text = \"Enter the Input\", font = (12)).place(x = 20, y = 100)\n",
    "e = tk.Entry(top, textvariable = data).place(x = 300, y = 100)\n",
    "b = tk.Button(top, text = 'Submit', font = (12),\n",
    "             command = sq).place(x=300, y= 300)\n",
    "\n",
    "top.mainloop()"
   ]
  },
  {
   "cell_type": "code",
   "execution_count": 44,
   "id": "ca936507-8b4b-4937-98b1-52b293334ac8",
   "metadata": {},
   "outputs": [],
   "source": [
    "# https://mitu.co.in/feedback"
   ]
  },
  {
   "cell_type": "code",
   "execution_count": null,
   "id": "19e5d5ed-42c7-44e8-8396-e8a19a098ad1",
   "metadata": {},
   "outputs": [],
   "source": []
  }
 ],
 "metadata": {
  "kernelspec": {
   "display_name": "Python 3 (ipykernel)",
   "language": "python",
   "name": "python3"
  },
  "language_info": {
   "codemirror_mode": {
    "name": "ipython",
    "version": 3
   },
   "file_extension": ".py",
   "mimetype": "text/x-python",
   "name": "python",
   "nbconvert_exporter": "python",
   "pygments_lexer": "ipython3",
   "version": "3.11.9"
  }
 },
 "nbformat": 4,
 "nbformat_minor": 5
}
