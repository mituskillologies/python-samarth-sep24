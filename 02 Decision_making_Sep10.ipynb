{
 "cells": [
  {
   "cell_type": "code",
   "execution_count": 2,
   "id": "b739db9a-9419-4323-9672-0a6c0481a29a",
   "metadata": {},
   "outputs": [],
   "source": [
    "num = 10"
   ]
  },
  {
   "cell_type": "code",
   "execution_count": 8,
   "id": "94c2ff87-593f-4eb7-a9ee-f6fac9d7912f",
   "metadata": {},
   "outputs": [
    {
     "name": "stdout",
     "output_type": "stream",
     "text": [
      "ok\n",
      "hello\n"
     ]
    }
   ],
   "source": [
    "if num > 0:\n",
    "    print('ok')\n",
    "    print('hello')"
   ]
  },
  {
   "cell_type": "code",
   "execution_count": 10,
   "id": "b8f83c5c-cea4-4dd6-b7f6-ed0084c7ea89",
   "metadata": {},
   "outputs": [],
   "source": [
    "if num > 20:\n",
    "    print('ok')\n",
    "    print('hello')"
   ]
  },
  {
   "cell_type": "code",
   "execution_count": 14,
   "id": "df2b1070-a50d-48d1-8025-b10a59385561",
   "metadata": {},
   "outputs": [
    {
     "name": "stdout",
     "output_type": "stream",
     "text": [
      "ok\n",
      "hello\n"
     ]
    }
   ],
   "source": [
    "if num > 2:\n",
    "    print('ok')\n",
    "    print('hello')\n",
    "else:\n",
    "    print('T_T')"
   ]
  },
  {
   "cell_type": "code",
   "execution_count": 16,
   "id": "25847134-7ccb-4d93-833b-e6168b03144e",
   "metadata": {},
   "outputs": [],
   "source": [
    "# check if a number positive or negative"
   ]
  },
  {
   "cell_type": "code",
   "execution_count": 26,
   "id": "372ea317-3e85-4f9f-b599-3ec757cf58ec",
   "metadata": {},
   "outputs": [
    {
     "name": "stdin",
     "output_type": "stream",
     "text": [
      "Enter the number  0\n"
     ]
    },
    {
     "name": "stdout",
     "output_type": "stream",
     "text": [
      "negative\n"
     ]
    }
   ],
   "source": [
    "num = int(input('Enter the number '))\n",
    "\n",
    "if num > 0:\n",
    "    print('positive')\n",
    "elif num == 0:\n",
    "    print('neutral')\n",
    "else:\n",
    "    print('negative')"
   ]
  },
  {
   "cell_type": "code",
   "execution_count": 28,
   "id": "a914ec26-71a9-42b9-af54-89fe088b65d0",
   "metadata": {},
   "outputs": [
    {
     "name": "stdin",
     "output_type": "stream",
     "text": [
      "Enter the number  6\n"
     ]
    },
    {
     "name": "stdout",
     "output_type": "stream",
     "text": [
      "even\n"
     ]
    }
   ],
   "source": [
    "# check if odd or even\n",
    "num = int(input('Enter the number '))\n",
    "\n",
    "if num % 2 == 0:\n",
    "    print('even')\n",
    "else:\n",
    "    print('odd')"
   ]
  },
  {
   "cell_type": "code",
   "execution_count": 36,
   "id": "2e4500e2-2ce3-43c7-83e5-26b53d1bf4c5",
   "metadata": {},
   "outputs": [
    {
     "name": "stdin",
     "output_type": "stream",
     "text": [
      "Enter the year  1800\n"
     ]
    },
    {
     "name": "stdout",
     "output_type": "stream",
     "text": [
      "century but not leap\n"
     ]
    }
   ],
   "source": [
    "# 2020 = leap\n",
    "# 2000 = leap\n",
    "# 2017 = not leap\n",
    "# 1800 = not leap\n",
    "\n",
    "yr = int(input('Enter the year '))\n",
    "\n",
    "if yr % 4 == 0:\n",
    "    if yr % 100 == 0:\n",
    "        if yr % 400 == 0:\n",
    "            print('Leap century year')\n",
    "        else:\n",
    "            print('century but not leap')\n",
    "    else:\n",
    "        print('leap year')\n",
    "else:\n",
    "    print('Not leap')\n",
    "            "
   ]
  },
  {
   "cell_type": "code",
   "execution_count": 42,
   "id": "a33c87cb-7537-44af-8be1-8a0354a615fb",
   "metadata": {},
   "outputs": [
    {
     "name": "stdin",
     "output_type": "stream",
     "text": [
      "Enter the purchase cose  10000\n",
      "Enter the selling cost 1000\n"
     ]
    },
    {
     "name": "stdout",
     "output_type": "stream",
     "text": [
      "Loss of 9000.0 Rs\n"
     ]
    }
   ],
   "source": [
    "# read selling and purchase cost\n",
    "# determine profit or loss and how much ?\n",
    "\n",
    "purchase_cost = float(input('Enter the purchase cose '))\n",
    "selling_cost = float(input('Enter the selling cost'))\n",
    "\n",
    "if selling_cost > purchase_cost:\n",
    "    print('profit of ', selling_cost - purchase_cost, 'Rs')\n",
    "else:\n",
    "    print('Loss of', purchase_cost - selling_cost, 'Rs')"
   ]
  },
  {
   "cell_type": "code",
   "execution_count": 50,
   "id": "5d81a205-c761-47d2-b8e5-d28cb4a74926",
   "metadata": {},
   "outputs": [
    {
     "name": "stdin",
     "output_type": "stream",
     "text": [
      "Enter the number  12\n"
     ]
    },
    {
     "name": "stdout",
     "output_type": "stream",
     "text": [
      "MENU.\n",
      "1.Square\n",
      "2.Cube\n",
      "3.Positive or Negative\n"
     ]
    },
    {
     "name": "stdin",
     "output_type": "stream",
     "text": [
      "Enter the choice  1000000\n"
     ]
    },
    {
     "name": "stdout",
     "output_type": "stream",
     "text": [
      "Please go and visit nearest hospital. Have a good mental health!!!\n"
     ]
    }
   ],
   "source": [
    "num = float(input('Enter the number '))\n",
    "\n",
    "\n",
    "print(\"MENU.\\n1.Square\\n2.Cube\\n3.Positive or Negative\")\n",
    "\n",
    "choice = int(input('Enter the choice '))\n",
    "\n",
    "if choice == 1:\n",
    "    print('square is', num * num)\n",
    "elif choice == 2:\n",
    "    print('Cube is', num ** 3)\n",
    "elif choice == 3:\n",
    "    if num > 0:\n",
    "        print('Positive')\n",
    "    elif num == 0:\n",
    "        print('neutral')\n",
    "    else:\n",
    "        print('Negative')\n",
    "else:\n",
    "    print('Please go and visit nearest hospital. Have a good mental health!!!')"
   ]
  },
  {
   "cell_type": "code",
   "execution_count": 56,
   "id": "aba1bcf9-60b5-4c5d-afb2-72bc16c978e4",
   "metadata": {},
   "outputs": [],
   "source": [
    "num = 2\n",
    "\n",
    "if num > 1:\n",
    "    pass"
   ]
  },
  {
   "cell_type": "code",
   "execution_count": null,
   "id": "aea4b661-ad8a-47fd-905a-38c2b8639c77",
   "metadata": {},
   "outputs": [],
   "source": []
  }
 ],
 "metadata": {
  "kernelspec": {
   "display_name": "Python 3 (ipykernel)",
   "language": "python",
   "name": "python3"
  },
  "language_info": {
   "codemirror_mode": {
    "name": "ipython",
    "version": 3
   },
   "file_extension": ".py",
   "mimetype": "text/x-python",
   "name": "python",
   "nbconvert_exporter": "python",
   "pygments_lexer": "ipython3",
   "version": "3.11.9"
  }
 },
 "nbformat": 4,
 "nbformat_minor": 5
}
