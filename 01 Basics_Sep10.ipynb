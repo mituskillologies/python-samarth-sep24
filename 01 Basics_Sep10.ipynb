{
 "cells": [
  {
   "cell_type": "code",
   "execution_count": 9,
   "id": "0a365eaa-4c8b-4eb0-b1e4-199c37e4f812",
   "metadata": {},
   "outputs": [
    {
     "name": "stdout",
     "output_type": "stream",
     "text": [
      "hello\n"
     ]
    }
   ],
   "source": [
    "print('hello')"
   ]
  },
  {
   "cell_type": "raw",
   "id": "d42eb1ea-9ea5-4027-bca6-27bc6c2e18ca",
   "metadata": {},
   "source": [
    "print('a')"
   ]
  },
  {
   "cell_type": "code",
   "execution_count": 14,
   "id": "5fb2e0a8-2a2a-4e9c-afc3-400460ab1fe9",
   "metadata": {},
   "outputs": [],
   "source": [
    "num = 123"
   ]
  },
  {
   "cell_type": "code",
   "execution_count": 16,
   "id": "15132cbd-071e-403d-91e6-70ae9e1d19db",
   "metadata": {},
   "outputs": [],
   "source": [
    "name = 'Aditya'"
   ]
  },
  {
   "cell_type": "code",
   "execution_count": 18,
   "id": "e65d850d-2b7c-4b3b-8a47-4af5225f9216",
   "metadata": {},
   "outputs": [
    {
     "name": "stdout",
     "output_type": "stream",
     "text": [
      "123\n"
     ]
    }
   ],
   "source": [
    "print(num)"
   ]
  },
  {
   "cell_type": "code",
   "execution_count": 20,
   "id": "af912be3-98d0-463d-88ba-4b9a4dad83b7",
   "metadata": {},
   "outputs": [
    {
     "data": {
      "text/plain": [
       "123"
      ]
     },
     "execution_count": 20,
     "metadata": {},
     "output_type": "execute_result"
    }
   ],
   "source": [
    "num"
   ]
  },
  {
   "cell_type": "code",
   "execution_count": 24,
   "id": "4b5e8bb9-87e2-451c-85f9-d26ca5438370",
   "metadata": {},
   "outputs": [],
   "source": [
    "rate_of_interest = 10"
   ]
  },
  {
   "cell_type": "code",
   "execution_count": 26,
   "id": "b6081d36-25b3-44af-b97d-3d1e8651de4e",
   "metadata": {},
   "outputs": [
    {
     "data": {
      "text/plain": [
       "10"
      ]
     },
     "execution_count": 26,
     "metadata": {},
     "output_type": "execute_result"
    }
   ],
   "source": [
    "rate_of_interest"
   ]
  },
  {
   "cell_type": "code",
   "execution_count": 30,
   "id": "1413ab55-4e55-47f4-8baf-1514ef534adb",
   "metadata": {},
   "outputs": [],
   "source": [
    "False1 = 2"
   ]
  },
  {
   "cell_type": "code",
   "execution_count": 32,
   "id": "b15f6673-8bbf-4ecd-9319-8223e1e0bcab",
   "metadata": {},
   "outputs": [],
   "source": [
    "num = 10"
   ]
  },
  {
   "cell_type": "code",
   "execution_count": 34,
   "id": "a4dec909-4fe9-4e71-9a04-eb943976eb9c",
   "metadata": {},
   "outputs": [
    {
     "data": {
      "text/plain": [
       "int"
      ]
     },
     "execution_count": 34,
     "metadata": {},
     "output_type": "execute_result"
    }
   ],
   "source": [
    "type(num)"
   ]
  },
  {
   "cell_type": "code",
   "execution_count": 36,
   "id": "0ad6b6c6-678f-45ad-ad76-4edddea87611",
   "metadata": {},
   "outputs": [],
   "source": [
    "num1 = 13.33"
   ]
  },
  {
   "cell_type": "code",
   "execution_count": 38,
   "id": "95cec241-5245-4f70-a8ba-b162db28b0a8",
   "metadata": {},
   "outputs": [
    {
     "data": {
      "text/plain": [
       "float"
      ]
     },
     "execution_count": 38,
     "metadata": {},
     "output_type": "execute_result"
    }
   ],
   "source": [
    "type(num1)"
   ]
  },
  {
   "cell_type": "code",
   "execution_count": 40,
   "id": "f2d19078-a8b6-4b0b-956f-94b2faf6f3c5",
   "metadata": {},
   "outputs": [],
   "source": [
    "name = 'Aditya'"
   ]
  },
  {
   "cell_type": "code",
   "execution_count": 42,
   "id": "f654f58b-557e-4dea-9773-44c2cbe5ebd8",
   "metadata": {},
   "outputs": [
    {
     "data": {
      "text/plain": [
       "str"
      ]
     },
     "execution_count": 42,
     "metadata": {},
     "output_type": "execute_result"
    }
   ],
   "source": [
    "type(name)"
   ]
  },
  {
   "cell_type": "code",
   "execution_count": 44,
   "id": "fc0b6f5a-0a92-492c-846c-9ab70691f375",
   "metadata": {},
   "outputs": [],
   "source": [
    "a = 124343 ** 123"
   ]
  },
  {
   "cell_type": "code",
   "execution_count": 46,
   "id": "e82c8246-0cd6-4e16-ab4f-47a9f8f213b7",
   "metadata": {},
   "outputs": [
    {
     "data": {
      "text/plain": [
       "434935623193595036512167875806211179419305579202445948783763999843664195486460838947262338894018053570050679327498289814718999664131617323595587965371376362586976337502471856132546656008264528098676931578555074139715971778723003143820670540062042612124534611831557532549455066387096083206492000930214151228463982265279733705490041092325228307264681805886713702827966800886302563188841098023861210345600916255212024716124956367262160597699664026998844990200178602137384323322426613338423869477291622675350917327421468641808055610154546384433961901232358012321707352519695070445815652934450023581636809792656986677009067275613607"
      ]
     },
     "execution_count": 46,
     "metadata": {},
     "output_type": "execute_result"
    }
   ],
   "source": [
    "a"
   ]
  },
  {
   "cell_type": "code",
   "execution_count": 48,
   "id": "5fc445c9-23b4-4141-b8fa-99880b748392",
   "metadata": {},
   "outputs": [],
   "source": [
    "a = 13e3"
   ]
  },
  {
   "cell_type": "code",
   "execution_count": 50,
   "id": "ba6f80e1-9c11-43d0-a45a-86e658cd4bfc",
   "metadata": {},
   "outputs": [
    {
     "data": {
      "text/plain": [
       "13000.0"
      ]
     },
     "execution_count": 50,
     "metadata": {},
     "output_type": "execute_result"
    }
   ],
   "source": [
    "a"
   ]
  },
  {
   "cell_type": "code",
   "execution_count": 52,
   "id": "76f77090-4bf8-4a89-912d-9c588b0766c6",
   "metadata": {},
   "outputs": [
    {
     "data": {
      "text/plain": [
       "12100000.0"
      ]
     },
     "execution_count": 52,
     "metadata": {},
     "output_type": "execute_result"
    }
   ],
   "source": [
    "121e5"
   ]
  },
  {
   "cell_type": "code",
   "execution_count": 54,
   "id": "ecd075be-908f-4aff-b1ab-a9472a2715da",
   "metadata": {},
   "outputs": [
    {
     "name": "stdout",
     "output_type": "stream",
     "text": [
      "I like Python Programming\n"
     ]
    }
   ],
   "source": [
    "print(\"I like Python Programming\")"
   ]
  },
  {
   "cell_type": "code",
   "execution_count": 56,
   "id": "e84b7dd3-2d76-4c06-ba10-7c5c255261e9",
   "metadata": {},
   "outputs": [
    {
     "name": "stdout",
     "output_type": "stream",
     "text": [
      "I like \"Python\" Programming\n"
     ]
    }
   ],
   "source": [
    "print('I like \"Python\" Programming')"
   ]
  },
  {
   "cell_type": "code",
   "execution_count": 58,
   "id": "bacac797-8140-4350-b66f-7ec5cb8a70b2",
   "metadata": {},
   "outputs": [
    {
     "name": "stdout",
     "output_type": "stream",
     "text": [
      "I like 'Python' Programming\n"
     ]
    }
   ],
   "source": [
    "print(\"I like 'Python' Programming\")"
   ]
  },
  {
   "cell_type": "code",
   "execution_count": 60,
   "id": "92454838-236c-425d-bc6d-02f42c4349f0",
   "metadata": {},
   "outputs": [],
   "source": [
    "# multiple assignment\n",
    "\n",
    "num1, num2, num3 = 23, 56, 18"
   ]
  },
  {
   "cell_type": "code",
   "execution_count": 62,
   "id": "596cc696-dd5d-4743-9cd4-eacb798f6829",
   "metadata": {},
   "outputs": [
    {
     "data": {
      "text/plain": [
       "23"
      ]
     },
     "execution_count": 62,
     "metadata": {},
     "output_type": "execute_result"
    }
   ],
   "source": [
    "num1"
   ]
  },
  {
   "cell_type": "code",
   "execution_count": 64,
   "id": "539b4262-748c-485d-bf97-64ba0ca8180a",
   "metadata": {},
   "outputs": [
    {
     "data": {
      "text/plain": [
       "56"
      ]
     },
     "execution_count": 64,
     "metadata": {},
     "output_type": "execute_result"
    }
   ],
   "source": [
    "num2"
   ]
  },
  {
   "cell_type": "code",
   "execution_count": 68,
   "id": "03f88e6e-321c-47f6-8d2c-73bc560f2559",
   "metadata": {},
   "outputs": [
    {
     "name": "stdout",
     "output_type": "stream",
     "text": [
      "30\n"
     ]
    }
   ],
   "source": [
    "num1 = 10; num2 = 20; result = num1 + num2; print(result)"
   ]
  },
  {
   "cell_type": "code",
   "execution_count": 70,
   "id": "a77f76b8-5740-4d9c-bd0e-c0a51d1256f2",
   "metadata": {},
   "outputs": [],
   "source": [
    "# string operations"
   ]
  },
  {
   "cell_type": "code",
   "execution_count": 72,
   "id": "65ddb8d7-1649-4e2b-9655-ce45c1555c33",
   "metadata": {},
   "outputs": [],
   "source": [
    "name = 'Aditya'"
   ]
  },
  {
   "cell_type": "code",
   "execution_count": 74,
   "id": "de822771-971f-4db3-a4e8-0defcf444786",
   "metadata": {},
   "outputs": [
    {
     "data": {
      "text/plain": [
       "'ADITYA'"
      ]
     },
     "execution_count": 74,
     "metadata": {},
     "output_type": "execute_result"
    }
   ],
   "source": [
    "name.upper()"
   ]
  },
  {
   "cell_type": "code",
   "execution_count": 76,
   "id": "fe4ab8b0-1185-4643-a96f-8a329c073c47",
   "metadata": {},
   "outputs": [
    {
     "data": {
      "text/plain": [
       "'aDITYA'"
      ]
     },
     "execution_count": 76,
     "metadata": {},
     "output_type": "execute_result"
    }
   ],
   "source": [
    "name.swapcase()"
   ]
  },
  {
   "cell_type": "code",
   "execution_count": 80,
   "id": "4cfe6ae1-4f34-4b6f-b459-f27f26191714",
   "metadata": {},
   "outputs": [
    {
     "data": {
      "text/plain": [
       "5"
      ]
     },
     "execution_count": 80,
     "metadata": {},
     "output_type": "execute_result"
    }
   ],
   "source": [
    "name.find('a')"
   ]
  },
  {
   "cell_type": "code",
   "execution_count": 82,
   "id": "89a89581-1de5-4348-b103-afb9ad2e540c",
   "metadata": {},
   "outputs": [],
   "source": [
    "name = ' Aditya '"
   ]
  },
  {
   "cell_type": "code",
   "execution_count": 84,
   "id": "4cfb04a2-447f-4fdc-90f8-c0a1be43ddee",
   "metadata": {},
   "outputs": [
    {
     "data": {
      "text/plain": [
       "'Aditya '"
      ]
     },
     "execution_count": 84,
     "metadata": {},
     "output_type": "execute_result"
    }
   ],
   "source": [
    "name.lstrip()"
   ]
  },
  {
   "cell_type": "code",
   "execution_count": 86,
   "id": "df265e7e-b4e6-4f3c-93c6-126b6650072a",
   "metadata": {},
   "outputs": [
    {
     "data": {
      "text/plain": [
       "' Aditya'"
      ]
     },
     "execution_count": 86,
     "metadata": {},
     "output_type": "execute_result"
    }
   ],
   "source": [
    "name.rstrip()"
   ]
  },
  {
   "cell_type": "code",
   "execution_count": 88,
   "id": "cc91544c-9b46-4d2b-af1b-c29fee3051d6",
   "metadata": {},
   "outputs": [
    {
     "data": {
      "text/plain": [
       "'Aditya'"
      ]
     },
     "execution_count": 88,
     "metadata": {},
     "output_type": "execute_result"
    }
   ],
   "source": [
    "name.strip()"
   ]
  },
  {
   "cell_type": "code",
   "execution_count": 94,
   "id": "cdbc4de4-aefa-4d2c-9ac3-34aa5b6f1eaa",
   "metadata": {},
   "outputs": [
    {
     "data": {
      "text/plain": [
       "True"
      ]
     },
     "execution_count": 94,
     "metadata": {},
     "output_type": "execute_result"
    }
   ],
   "source": [
    "name.istitle()"
   ]
  },
  {
   "cell_type": "code",
   "execution_count": 96,
   "id": "f607c29e-b362-44e8-9b37-5f98c194ca45",
   "metadata": {},
   "outputs": [],
   "source": [
    "a1 = '123'\n",
    "a2 = 'Aditya'\n",
    "a3 = 'Aditya123'"
   ]
  },
  {
   "cell_type": "code",
   "execution_count": 98,
   "id": "ee4aacd1-6d9d-433a-8e9a-af761c1aaddd",
   "metadata": {},
   "outputs": [
    {
     "data": {
      "text/plain": [
       "False"
      ]
     },
     "execution_count": 98,
     "metadata": {},
     "output_type": "execute_result"
    }
   ],
   "source": [
    "a1.isalpha()"
   ]
  },
  {
   "cell_type": "code",
   "execution_count": 100,
   "id": "2ccc17e6-9f64-44c4-853f-cc6f022a13fd",
   "metadata": {},
   "outputs": [
    {
     "data": {
      "text/plain": [
       "True"
      ]
     },
     "execution_count": 100,
     "metadata": {},
     "output_type": "execute_result"
    }
   ],
   "source": [
    "a2.isalpha()"
   ]
  },
  {
   "cell_type": "code",
   "execution_count": 102,
   "id": "1e737d2f-9c12-4871-b5c3-0c2896dfc318",
   "metadata": {},
   "outputs": [
    {
     "data": {
      "text/plain": [
       "False"
      ]
     },
     "execution_count": 102,
     "metadata": {},
     "output_type": "execute_result"
    }
   ],
   "source": [
    "a3.isalpha()"
   ]
  },
  {
   "cell_type": "code",
   "execution_count": 106,
   "id": "97424633-3c8c-4746-bfec-2640be6f43d7",
   "metadata": {},
   "outputs": [],
   "source": [
    "name = name.strip()"
   ]
  },
  {
   "cell_type": "code",
   "execution_count": 108,
   "id": "5ae49a91-48d0-426f-b243-fc46c096478e",
   "metadata": {},
   "outputs": [
    {
     "data": {
      "text/plain": [
       "'Aditya'"
      ]
     },
     "execution_count": 108,
     "metadata": {},
     "output_type": "execute_result"
    }
   ],
   "source": [
    "name"
   ]
  },
  {
   "cell_type": "code",
   "execution_count": 112,
   "id": "6faf19e0-397b-4cbb-831e-697e29029cae",
   "metadata": {},
   "outputs": [
    {
     "data": {
      "text/plain": [
       "True"
      ]
     },
     "execution_count": 112,
     "metadata": {},
     "output_type": "execute_result"
    }
   ],
   "source": [
    "name.startswith('Adi')"
   ]
  },
  {
   "cell_type": "code",
   "execution_count": 114,
   "id": "e40fb88f-9ecf-4a0d-9a2e-f0dabdd0bcca",
   "metadata": {},
   "outputs": [
    {
     "data": {
      "text/plain": [
       "'aaditya'"
      ]
     },
     "execution_count": 114,
     "metadata": {},
     "output_type": "execute_result"
    }
   ],
   "source": [
    "name.replace('A', 'aa')"
   ]
  },
  {
   "cell_type": "code",
   "execution_count": 116,
   "id": "25522cfe-dc7d-4427-85fa-aba1541c6ba6",
   "metadata": {},
   "outputs": [],
   "source": [
    "# string concatenation"
   ]
  },
  {
   "cell_type": "code",
   "execution_count": 118,
   "id": "a05f032e-99c3-4226-b5ed-dee1b303c7fe",
   "metadata": {},
   "outputs": [],
   "source": [
    "name1 = 'Hello'\n",
    "name2 = 'World'"
   ]
  },
  {
   "cell_type": "code",
   "execution_count": 120,
   "id": "38b6006e-3f5d-49f3-b8ed-dea2d704f0c1",
   "metadata": {},
   "outputs": [
    {
     "data": {
      "text/plain": [
       "'HelloWorld'"
      ]
     },
     "execution_count": 120,
     "metadata": {},
     "output_type": "execute_result"
    }
   ],
   "source": [
    "name1 + name2"
   ]
  },
  {
   "cell_type": "code",
   "execution_count": 122,
   "id": "90a3ef02-5b2b-474e-bd3c-990890b21632",
   "metadata": {},
   "outputs": [
    {
     "data": {
      "text/plain": [
       "'Hello World'"
      ]
     },
     "execution_count": 122,
     "metadata": {},
     "output_type": "execute_result"
    }
   ],
   "source": [
    "name1 + ' ' + name2"
   ]
  },
  {
   "cell_type": "code",
   "execution_count": 124,
   "id": "a6f5c34f-fffc-4571-b269-1a8558fde769",
   "metadata": {},
   "outputs": [
    {
     "data": {
      "text/plain": [
       "'HelloHelloHello'"
      ]
     },
     "execution_count": 124,
     "metadata": {},
     "output_type": "execute_result"
    }
   ],
   "source": [
    "name1 * 3"
   ]
  },
  {
   "cell_type": "code",
   "execution_count": 126,
   "id": "4e59a4a6-1a29-4a9f-9b8e-445640241012",
   "metadata": {},
   "outputs": [],
   "source": [
    "# escape sequence"
   ]
  },
  {
   "cell_type": "code",
   "execution_count": 132,
   "id": "f68b9e6f-2f30-49eb-be9e-406ebb85f5d3",
   "metadata": {},
   "outputs": [
    {
     "name": "stdout",
     "output_type": "stream",
     "text": [
      "hello\n",
      "World\n"
     ]
    }
   ],
   "source": [
    "print(\"hello\\nWorld\")"
   ]
  },
  {
   "cell_type": "code",
   "execution_count": 134,
   "id": "f679bd69-9dcf-44f4-bf72-21ddf84b0df9",
   "metadata": {},
   "outputs": [
    {
     "name": "stdout",
     "output_type": "stream",
     "text": [
      "hello\tWorld\n"
     ]
    }
   ],
   "source": [
    "print(\"hello\\tWorld\")"
   ]
  },
  {
   "cell_type": "code",
   "execution_count": 136,
   "id": "1109ee0e-2ac2-4abf-af16-404964283db0",
   "metadata": {},
   "outputs": [
    {
     "name": "stdout",
     "output_type": "stream",
     "text": [
      "hello\\World\n"
     ]
    }
   ],
   "source": [
    "print(\"hello\\\\World\")"
   ]
  },
  {
   "cell_type": "code",
   "execution_count": 138,
   "id": "ede67a58-5e89-4037-b743-3e4cea539255",
   "metadata": {},
   "outputs": [
    {
     "name": "stdout",
     "output_type": "stream",
     "text": [
      "hello\"World\n"
     ]
    }
   ],
   "source": [
    "print(\"hello\\\"World\")"
   ]
  },
  {
   "cell_type": "code",
   "execution_count": 146,
   "id": "38634e7e-cf8e-442a-84e8-21c2aaf21e66",
   "metadata": {},
   "outputs": [],
   "source": [
    "# multi line string/ doc string\n",
    "\n",
    "line = \"\"\"this is 1st line\n",
    "this is second line\n",
    "this is third line\"\"\""
   ]
  },
  {
   "cell_type": "code",
   "execution_count": 148,
   "id": "49d70707-4e83-4708-8446-a2535e9e04e1",
   "metadata": {},
   "outputs": [
    {
     "name": "stdout",
     "output_type": "stream",
     "text": [
      "this is 1st line\n",
      "this is second line\n",
      "this is third line\n"
     ]
    }
   ],
   "source": [
    "print(line)"
   ]
  },
  {
   "cell_type": "code",
   "execution_count": 150,
   "id": "43ac418b-333f-45ba-a36f-89fbdd6725d9",
   "metadata": {},
   "outputs": [
    {
     "data": {
      "text/plain": [
       "'Aditya'"
      ]
     },
     "execution_count": 150,
     "metadata": {},
     "output_type": "execute_result"
    }
   ],
   "source": [
    "name"
   ]
  },
  {
   "cell_type": "code",
   "execution_count": 154,
   "id": "004e6f19-bb75-4da5-b989-c7afa14e49ff",
   "metadata": {},
   "outputs": [],
   "source": [
    "dir(name);"
   ]
  },
  {
   "cell_type": "code",
   "execution_count": 158,
   "id": "e47d40a8-fe0d-4f7b-85db-4a040c455a6e",
   "metadata": {},
   "outputs": [
    {
     "name": "stdout",
     "output_type": "stream",
     "text": [
      "Help on built-in function lower:\n",
      "\n",
      "lower() method of builtins.str instance\n",
      "    Return a copy of the string converted to lowercase.\n",
      "\n"
     ]
    }
   ],
   "source": [
    "help(name.lower)"
   ]
  },
  {
   "cell_type": "code",
   "execution_count": 162,
   "id": "34839963-7a0e-46b8-ab69-100727f2db45",
   "metadata": {},
   "outputs": [],
   "source": [
    "# print function"
   ]
  },
  {
   "cell_type": "code",
   "execution_count": 168,
   "id": "876cacce-54fc-470c-9e45-68765edde3e4",
   "metadata": {},
   "outputs": [],
   "source": [
    "name = 'Aditya'\n",
    "marks = 62.00"
   ]
  },
  {
   "cell_type": "code",
   "execution_count": 170,
   "id": "7da550de-75ac-4506-9a63-b240763af89f",
   "metadata": {},
   "outputs": [
    {
     "name": "stdout",
     "output_type": "stream",
     "text": [
      "my name is Aditya and marks are 62.0\n"
     ]
    }
   ],
   "source": [
    "print(\"my name is\", name, \"and marks are\", marks)"
   ]
  },
  {
   "cell_type": "code",
   "execution_count": 174,
   "id": "4e08b74b-9536-4086-be27-856dbb60f383",
   "metadata": {},
   "outputs": [
    {
     "name": "stdout",
     "output_type": "stream",
     "text": [
      "my name is Aditya and marks are 62.00\n"
     ]
    }
   ],
   "source": [
    "print('my name is %s and marks are %.2f' %(name, marks))"
   ]
  },
  {
   "cell_type": "code",
   "execution_count": 176,
   "id": "7a350746-d9fa-4318-a1a3-9481bfc9a014",
   "metadata": {},
   "outputs": [
    {
     "name": "stdout",
     "output_type": "stream",
     "text": [
      "my name is Aditya and marks are 62\n"
     ]
    }
   ],
   "source": [
    "print('my name is %s and marks are %i' %(name, marks))"
   ]
  },
  {
   "cell_type": "code",
   "execution_count": 178,
   "id": "62660452-b04f-4b44-8117-225757427c5f",
   "metadata": {},
   "outputs": [
    {
     "name": "stdout",
     "output_type": "stream",
     "text": [
      "my name is Aditya and marks are 62.0\n"
     ]
    }
   ],
   "source": [
    "print(f\"my name is {name} and marks are {marks}\")"
   ]
  },
  {
   "cell_type": "code",
   "execution_count": 180,
   "id": "a7f6bba0-9648-4870-994f-32abe0de07f4",
   "metadata": {},
   "outputs": [],
   "source": [
    "city = 'Pune'"
   ]
  },
  {
   "cell_type": "code",
   "execution_count": 184,
   "id": "d9212267-2123-49a4-9a77-b2b9c4ea461b",
   "metadata": {},
   "outputs": [
    {
     "name": "stdout",
     "output_type": "stream",
     "text": [
      "Aditya\n",
      "62.0\n",
      "Pune\n"
     ]
    }
   ],
   "source": [
    "print(name, marks, city, sep = '\\n')"
   ]
  },
  {
   "cell_type": "code",
   "execution_count": 188,
   "id": "e6fed3f6-c925-4414-a264-361e61ca32cf",
   "metadata": {},
   "outputs": [
    {
     "name": "stdout",
     "output_type": "stream",
     "text": [
      "Aditya\t62.0\tPune\n"
     ]
    }
   ],
   "source": [
    "print(name, marks, city, sep = '\\t')"
   ]
  },
  {
   "cell_type": "code",
   "execution_count": 190,
   "id": "4c481038-5d17-40e5-b263-b3e7b7f282ee",
   "metadata": {},
   "outputs": [
    {
     "name": "stdout",
     "output_type": "stream",
     "text": [
      "Aditya 62.0 Pune*"
     ]
    }
   ],
   "source": [
    "print(name, marks, city, end = '*')"
   ]
  },
  {
   "cell_type": "code",
   "execution_count": 192,
   "id": "225b4866-372d-405c-9231-031778cf7371",
   "metadata": {},
   "outputs": [],
   "source": [
    "# arithmetic operators"
   ]
  },
  {
   "cell_type": "code",
   "execution_count": 206,
   "id": "fc5de2ad-8f66-4b61-9e3e-cd64b72a7349",
   "metadata": {},
   "outputs": [],
   "source": [
    "num1 = 10\n",
    "num2 = 22"
   ]
  },
  {
   "cell_type": "code",
   "execution_count": 208,
   "id": "41aa8f95-4b7c-4389-92c8-e4ac49742adb",
   "metadata": {},
   "outputs": [
    {
     "data": {
      "text/plain": [
       "32"
      ]
     },
     "execution_count": 208,
     "metadata": {},
     "output_type": "execute_result"
    }
   ],
   "source": [
    "num1 + num2"
   ]
  },
  {
   "cell_type": "code",
   "execution_count": 210,
   "id": "ca8aa1d0-9472-4c83-bda9-b0d69df07652",
   "metadata": {},
   "outputs": [
    {
     "data": {
      "text/plain": [
       "-12"
      ]
     },
     "execution_count": 210,
     "metadata": {},
     "output_type": "execute_result"
    }
   ],
   "source": [
    "num1 - num2"
   ]
  },
  {
   "cell_type": "code",
   "execution_count": 212,
   "id": "789602c9-02e4-40de-9839-9f1248f882ee",
   "metadata": {},
   "outputs": [
    {
     "data": {
      "text/plain": [
       "220"
      ]
     },
     "execution_count": 212,
     "metadata": {},
     "output_type": "execute_result"
    }
   ],
   "source": [
    "num1 * num2"
   ]
  },
  {
   "cell_type": "code",
   "execution_count": 214,
   "id": "72a1c735-c9e8-463e-b667-a90dc85412ce",
   "metadata": {},
   "outputs": [
    {
     "data": {
      "text/plain": [
       "0.45454545454545453"
      ]
     },
     "execution_count": 214,
     "metadata": {},
     "output_type": "execute_result"
    }
   ],
   "source": [
    "num1 / num2"
   ]
  },
  {
   "cell_type": "code",
   "execution_count": 216,
   "id": "6780204e-b843-4956-8720-d6ae01968efe",
   "metadata": {},
   "outputs": [
    {
     "data": {
      "text/plain": [
       "1000"
      ]
     },
     "execution_count": 216,
     "metadata": {},
     "output_type": "execute_result"
    }
   ],
   "source": [
    "num1 ** 3"
   ]
  },
  {
   "cell_type": "code",
   "execution_count": 218,
   "id": "08cc1d63-a389-4fa5-83f7-e976afdad48b",
   "metadata": {},
   "outputs": [
    {
     "data": {
      "text/plain": [
       "10"
      ]
     },
     "execution_count": 218,
     "metadata": {},
     "output_type": "execute_result"
    }
   ],
   "source": [
    "num"
   ]
  },
  {
   "cell_type": "code",
   "execution_count": 221,
   "id": "0535b250-bd96-4a6b-b11b-72a10a642475",
   "metadata": {},
   "outputs": [
    {
     "data": {
      "text/plain": [
       "2"
      ]
     },
     "execution_count": 221,
     "metadata": {},
     "output_type": "execute_result"
    }
   ],
   "source": [
    "num2 // num1"
   ]
  },
  {
   "cell_type": "code",
   "execution_count": 223,
   "id": "882320ec-2948-49e0-9842-68f3c0298651",
   "metadata": {},
   "outputs": [
    {
     "data": {
      "text/plain": [
       "2"
      ]
     },
     "execution_count": 223,
     "metadata": {},
     "output_type": "execute_result"
    }
   ],
   "source": [
    "num2 % num1"
   ]
  },
  {
   "cell_type": "code",
   "execution_count": 225,
   "id": "513ea37d-35f6-4924-8259-33a58e408c65",
   "metadata": {},
   "outputs": [],
   "source": [
    "# assignment operator"
   ]
  },
  {
   "cell_type": "code",
   "execution_count": 227,
   "id": "a690559b-1c3f-486f-a976-894df2b363bd",
   "metadata": {},
   "outputs": [
    {
     "data": {
      "text/plain": [
       "10"
      ]
     },
     "execution_count": 227,
     "metadata": {},
     "output_type": "execute_result"
    }
   ],
   "source": [
    "num1"
   ]
  },
  {
   "cell_type": "code",
   "execution_count": 231,
   "id": "b8dc83bb-88e9-48f0-8e34-061632596b7a",
   "metadata": {},
   "outputs": [],
   "source": [
    "num1 += 4"
   ]
  },
  {
   "cell_type": "code",
   "execution_count": 233,
   "id": "dce7b7f6-9d0e-454c-bb7b-1cc9cd59e2af",
   "metadata": {},
   "outputs": [
    {
     "data": {
      "text/plain": [
       "14"
      ]
     },
     "execution_count": 233,
     "metadata": {},
     "output_type": "execute_result"
    }
   ],
   "source": [
    "num1"
   ]
  },
  {
   "cell_type": "code",
   "execution_count": 235,
   "id": "4ea79849-a7be-4b14-bda7-8ff033fba2c5",
   "metadata": {},
   "outputs": [],
   "source": [
    "# Relational operators"
   ]
  },
  {
   "cell_type": "code",
   "execution_count": 237,
   "id": "592ecc6c-ee1d-4eea-9a6a-25edaa7b4bcf",
   "metadata": {},
   "outputs": [
    {
     "data": {
      "text/plain": [
       "False"
      ]
     },
     "execution_count": 237,
     "metadata": {},
     "output_type": "execute_result"
    }
   ],
   "source": [
    "num1 == num2"
   ]
  },
  {
   "cell_type": "code",
   "execution_count": 239,
   "id": "d289cf97-9235-49d5-9560-706c54c45d48",
   "metadata": {},
   "outputs": [
    {
     "data": {
      "text/plain": [
       "False"
      ]
     },
     "execution_count": 239,
     "metadata": {},
     "output_type": "execute_result"
    }
   ],
   "source": [
    "num1 >= num2"
   ]
  },
  {
   "cell_type": "code",
   "execution_count": 242,
   "id": "5a810e8b-341f-45e2-8f5b-8e4c713eea8f",
   "metadata": {},
   "outputs": [
    {
     "data": {
      "text/plain": [
       "True"
      ]
     },
     "execution_count": 242,
     "metadata": {},
     "output_type": "execute_result"
    }
   ],
   "source": [
    "num1 < num2"
   ]
  },
  {
   "cell_type": "code",
   "execution_count": 244,
   "id": "cc68f014-4a33-4cb2-a4ae-df78a24f1b7e",
   "metadata": {},
   "outputs": [],
   "source": [
    "# logical"
   ]
  },
  {
   "cell_type": "code",
   "execution_count": 246,
   "id": "e156c592-1e08-4a2b-9dc9-324f7862ac33",
   "metadata": {},
   "outputs": [
    {
     "data": {
      "text/plain": [
       "True"
      ]
     },
     "execution_count": 246,
     "metadata": {},
     "output_type": "execute_result"
    }
   ],
   "source": [
    "num1 > 2 and num1 < 30"
   ]
  },
  {
   "cell_type": "code",
   "execution_count": 248,
   "id": "8e96e104-a986-47f5-98be-34224bd06c54",
   "metadata": {},
   "outputs": [
    {
     "data": {
      "text/plain": [
       "True"
      ]
     },
     "execution_count": 248,
     "metadata": {},
     "output_type": "execute_result"
    }
   ],
   "source": [
    "num1 > 2 or num1 < 0"
   ]
  },
  {
   "cell_type": "code",
   "execution_count": 250,
   "id": "311d72cb-292e-4048-b354-c3efec43f18f",
   "metadata": {},
   "outputs": [],
   "source": [
    "# type casting"
   ]
  },
  {
   "cell_type": "code",
   "execution_count": 252,
   "id": "5242f90e-ac81-4f88-bad5-4c7ae66a98c0",
   "metadata": {},
   "outputs": [],
   "source": [
    "a = '1223'"
   ]
  },
  {
   "cell_type": "code",
   "execution_count": 254,
   "id": "88897990-9b25-4ece-af9c-043acc942a0d",
   "metadata": {},
   "outputs": [
    {
     "data": {
      "text/plain": [
       "'122312231223'"
      ]
     },
     "execution_count": 254,
     "metadata": {},
     "output_type": "execute_result"
    }
   ],
   "source": [
    "a * 3"
   ]
  },
  {
   "cell_type": "code",
   "execution_count": 258,
   "id": "1b7799aa-294e-4b59-b7fa-568c26c160fb",
   "metadata": {},
   "outputs": [
    {
     "data": {
      "text/plain": [
       "2446"
      ]
     },
     "execution_count": 258,
     "metadata": {},
     "output_type": "execute_result"
    }
   ],
   "source": [
    "int(a) * 2"
   ]
  },
  {
   "cell_type": "code",
   "execution_count": 260,
   "id": "0d59055c-d5c8-440e-b112-a64d6006f6ab",
   "metadata": {},
   "outputs": [],
   "source": [
    "# user input"
   ]
  },
  {
   "cell_type": "code",
   "execution_count": 268,
   "id": "47df9e9d-9211-43f7-bd24-2d68e9167542",
   "metadata": {},
   "outputs": [
    {
     "name": "stdin",
     "output_type": "stream",
     "text": [
      "Enter the first number  5\n",
      "Enter the second number  10\n"
     ]
    },
    {
     "name": "stdout",
     "output_type": "stream",
     "text": [
      "15\n"
     ]
    }
   ],
   "source": [
    "num1 = int(input('Enter the first number '))\n",
    "num2 = int(input('Enter the second number '))\n",
    "\n",
    "add = num1 + num2\n",
    "print(add)"
   ]
  },
  {
   "cell_type": "code",
   "execution_count": null,
   "id": "e3afdd75-7e8b-45e0-b846-30546283b5fe",
   "metadata": {},
   "outputs": [],
   "source": [
    "print('ok')"
   ]
  },
  {
   "cell_type": "code",
   "execution_count": null,
   "id": "dead8ff6-0548-4123-a67e-085ae8c53ad4",
   "metadata": {},
   "outputs": [],
   "source": []
  }
 ],
 "metadata": {
  "kernelspec": {
   "display_name": "Python 3 (ipykernel)",
   "language": "python",
   "name": "python3"
  },
  "language_info": {
   "codemirror_mode": {
    "name": "ipython",
    "version": 3
   },
   "file_extension": ".py",
   "mimetype": "text/x-python",
   "name": "python",
   "nbconvert_exporter": "python",
   "pygments_lexer": "ipython3",
   "version": "3.11.9"
  }
 },
 "nbformat": 4,
 "nbformat_minor": 5
}
