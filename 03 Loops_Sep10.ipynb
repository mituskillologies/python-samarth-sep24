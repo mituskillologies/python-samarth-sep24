{
 "cells": [
  {
   "cell_type": "markdown",
   "id": "f8aa992b-dc98-46bc-8ea1-9e8e2d57ae6e",
   "metadata": {},
   "source": [
    "### While Loop"
   ]
  },
  {
   "cell_type": "code",
   "execution_count": 7,
   "id": "a6ed9ad3-43ca-4b13-bb19-69a9c404d351",
   "metadata": {},
   "outputs": [
    {
     "name": "stdout",
     "output_type": "stream",
     "text": [
      "Pune Pune Pune Pune Pune Pune Pune Pune Pune Pune Goodbye!!!\n"
     ]
    }
   ],
   "source": [
    "count = 1\n",
    "\n",
    "while count < 11:\n",
    "    print('Pune', end = ' ')\n",
    "    count += 1\n",
    "\n",
    "print('Goodbye!!!')"
   ]
  },
  {
   "cell_type": "code",
   "execution_count": 11,
   "id": "9603fd08-c5d2-4a1e-b97b-746b84adf801",
   "metadata": {},
   "outputs": [
    {
     "name": "stdout",
     "output_type": "stream",
     "text": [
      "1 2 3 4 5 6 7 8 9 10 11 12 13 14 15 "
     ]
    }
   ],
   "source": [
    "count = 1\n",
    "\n",
    "while count <=15:\n",
    "    print(count, end = ' ')\n",
    "    count += 1"
   ]
  },
  {
   "cell_type": "code",
   "execution_count": 15,
   "id": "47fc5520-d826-4814-bb17-bdf4d3fc8c7e",
   "metadata": {},
   "outputs": [
    {
     "name": "stdout",
     "output_type": "stream",
     "text": [
      "Addition is  55\n"
     ]
    }
   ],
   "source": [
    "# addition of numbers from 1 to 10\n",
    "\n",
    "count = 1\n",
    "add = 0\n",
    "\n",
    "while count <= 10:\n",
    "    add = add + count\n",
    "    count += 1\n",
    "\n",
    "print('Addition is ', add)"
   ]
  },
  {
   "cell_type": "code",
   "execution_count": 17,
   "id": "dc01fe58-7aff-4c20-91dc-c43ea41d75a1",
   "metadata": {},
   "outputs": [
    {
     "data": {
      "text/plain": [
       "11"
      ]
     },
     "execution_count": 17,
     "metadata": {},
     "output_type": "execute_result"
    }
   ],
   "source": [
    "count"
   ]
  },
  {
   "cell_type": "code",
   "execution_count": 19,
   "id": "b039adf0-77d7-4851-8d09-8b7958cf0a31",
   "metadata": {},
   "outputs": [
    {
     "name": "stdout",
     "output_type": "stream",
     "text": [
      "Addition is  100\n"
     ]
    }
   ],
   "source": [
    "# addition of odd numbers from 1 to 20\n",
    "\n",
    "count = 1\n",
    "add = 0\n",
    "\n",
    "while count <= 20:\n",
    "    add = add + count\n",
    "    count += 2\n",
    "\n",
    "print('Addition is ', add)"
   ]
  },
  {
   "cell_type": "code",
   "execution_count": 21,
   "id": "696db56c-59df-4c17-aad1-9707c4abd8c2",
   "metadata": {},
   "outputs": [
    {
     "name": "stdout",
     "output_type": "stream",
     "text": [
      "Factorial is: 120\n"
     ]
    }
   ],
   "source": [
    "# find the factorial\n",
    "# 5! = 5 * 4 * 3 * 2 * 1 = 120\n",
    "\n",
    "num = 5\n",
    "\n",
    "fact = 1\n",
    "\n",
    "while num > 1:\n",
    "    fact = fact * num\n",
    "    num -= 1\n",
    "\n",
    "print('Factorial is:', fact)"
   ]
  },
  {
   "cell_type": "code",
   "execution_count": 23,
   "id": "476ef2ac-3740-42d6-9dca-ab1b45a984cf",
   "metadata": {},
   "outputs": [],
   "source": [
    "# find the addition of digits of a number\n",
    "# 12321 = 1 + 2 + 3 + 2 + 1 = 9 "
   ]
  },
  {
   "cell_type": "code",
   "execution_count": 25,
   "id": "1ae20b8c-fb14-460b-9462-a35510da6aa5",
   "metadata": {},
   "outputs": [],
   "source": [
    "num = 12345"
   ]
  },
  {
   "cell_type": "code",
   "execution_count": 29,
   "id": "e0e4fb2c-cddc-406c-af7e-32704f929032",
   "metadata": {},
   "outputs": [
    {
     "data": {
      "text/plain": [
       "5"
      ]
     },
     "execution_count": 29,
     "metadata": {},
     "output_type": "execute_result"
    }
   ],
   "source": [
    "num % 10"
   ]
  },
  {
   "cell_type": "code",
   "execution_count": 35,
   "id": "01c12f07-17b0-4419-877f-6aa8fbb5ea13",
   "metadata": {},
   "outputs": [],
   "source": [
    "a = num // 10"
   ]
  },
  {
   "cell_type": "code",
   "execution_count": 37,
   "id": "26e72765-33a0-4463-83a0-1be42430c90d",
   "metadata": {},
   "outputs": [
    {
     "data": {
      "text/plain": [
       "4"
      ]
     },
     "execution_count": 37,
     "metadata": {},
     "output_type": "execute_result"
    }
   ],
   "source": [
    "a % 10"
   ]
  },
  {
   "cell_type": "code",
   "execution_count": 39,
   "id": "deaf607a-defd-4197-8660-5dbe06d83cec",
   "metadata": {},
   "outputs": [
    {
     "name": "stdin",
     "output_type": "stream",
     "text": [
      "Enter the number  12345\n"
     ]
    },
    {
     "name": "stdout",
     "output_type": "stream",
     "text": [
      "addition of digits is 15\n"
     ]
    }
   ],
   "source": [
    "num = int(input('Enter the number '))\n",
    "\n",
    "add = 0\n",
    "while num > 0:\n",
    "    rem = num % 10\n",
    "    add = add + rem\n",
    "    num = num // 10\n",
    "\n",
    "print('addition of digits is', add)"
   ]
  },
  {
   "cell_type": "markdown",
   "id": "30a40f66-e2b5-41c3-8477-bd97ff0d09eb",
   "metadata": {},
   "source": [
    "### For Loop"
   ]
  },
  {
   "cell_type": "code",
   "execution_count": 42,
   "id": "5ce45226-b05c-4ecf-8d04-e69dce4a9837",
   "metadata": {},
   "outputs": [
    {
     "name": "stdout",
     "output_type": "stream",
     "text": [
      "12\n",
      "34\n",
      "56\n",
      "23\n",
      "10\n"
     ]
    }
   ],
   "source": [
    "for n in 12, 34, 56, 23, 10:\n",
    "    print(n)"
   ]
  },
  {
   "cell_type": "code",
   "execution_count": 46,
   "id": "5d341028-314e-4af1-8b74-a9611bdd0c33",
   "metadata": {},
   "outputs": [
    {
     "name": "stdout",
     "output_type": "stream",
     "text": [
      "6.0 17.0 28.0 11.5 5.0 "
     ]
    }
   ],
   "source": [
    "for n in 12, 34, 56, 23, 10:\n",
    "    print(n/2, end = ' ')"
   ]
  },
  {
   "cell_type": "code",
   "execution_count": 48,
   "id": "d4cbc8ad-d660-4095-b8fd-b44430ae2a66",
   "metadata": {},
   "outputs": [
    {
     "name": "stdout",
     "output_type": "stream",
     "text": [
      "12 34.45 Adi True "
     ]
    }
   ],
   "source": [
    "for n in 12, 34.45, 'Adi', True:\n",
    "    print(n, end = ' ')"
   ]
  },
  {
   "cell_type": "code",
   "execution_count": 50,
   "id": "9084c2c7-375a-449d-bcc1-eed99cfd4cbb",
   "metadata": {},
   "outputs": [],
   "source": [
    "# range"
   ]
  },
  {
   "cell_type": "code",
   "execution_count": 56,
   "id": "de25181c-a464-494d-bbe0-cc23faef0811",
   "metadata": {},
   "outputs": [
    {
     "data": {
      "text/plain": [
       "[0, 1, 2, 3, 4, 5, 6, 7, 8, 9]"
      ]
     },
     "execution_count": 56,
     "metadata": {},
     "output_type": "execute_result"
    }
   ],
   "source": [
    "list(range(10))"
   ]
  },
  {
   "cell_type": "code",
   "execution_count": 58,
   "id": "e6ae6768-1271-420c-a4a2-97067e5d73e0",
   "metadata": {},
   "outputs": [
    {
     "data": {
      "text/plain": [
       "[5, 6, 7, 8, 9]"
      ]
     },
     "execution_count": 58,
     "metadata": {},
     "output_type": "execute_result"
    }
   ],
   "source": [
    "list(range(5, 10))"
   ]
  },
  {
   "cell_type": "code",
   "execution_count": 60,
   "id": "ebc49d68-430e-419f-831d-788e7ad61f6e",
   "metadata": {},
   "outputs": [
    {
     "data": {
      "text/plain": [
       "[2, 5, 8]"
      ]
     },
     "execution_count": 60,
     "metadata": {},
     "output_type": "execute_result"
    }
   ],
   "source": [
    "list(range(2, 10, 3))"
   ]
  },
  {
   "cell_type": "code",
   "execution_count": 62,
   "id": "21eae1e1-0412-4ad2-9daa-ff486c574da9",
   "metadata": {},
   "outputs": [
    {
     "name": "stdout",
     "output_type": "stream",
     "text": [
      "1 4 9 16 25 36 49 64 81 100 "
     ]
    }
   ],
   "source": [
    "for n in range(1,11):\n",
    "    print(n**2, end = ' ')"
   ]
  },
  {
   "cell_type": "code",
   "execution_count": 64,
   "id": "a3b3bdcb-2a20-4f5d-bb8f-342b6fa28128",
   "metadata": {},
   "outputs": [
    {
     "name": "stdout",
     "output_type": "stream",
     "text": [
      "55\n"
     ]
    }
   ],
   "source": [
    "# find addition of 1 to 10 using for loop\n",
    "\n",
    "add = 0\n",
    "\n",
    "for n in range(1,11):\n",
    "    add = add + n\n",
    "\n",
    "print(add)"
   ]
  },
  {
   "cell_type": "code",
   "execution_count": 66,
   "id": "0c121286-bd96-49df-a1cd-65c32c20ff96",
   "metadata": {},
   "outputs": [],
   "source": [
    "l = [23, 45, 34, 23, 41, 40]"
   ]
  },
  {
   "cell_type": "code",
   "execution_count": 68,
   "id": "5c623a4e-5bc2-4627-97f4-12229b431a9c",
   "metadata": {},
   "outputs": [
    {
     "data": {
      "text/plain": [
       "1"
      ]
     },
     "execution_count": 68,
     "metadata": {},
     "output_type": "execute_result"
    }
   ],
   "source": [
    "l.index(45)"
   ]
  },
  {
   "cell_type": "code",
   "execution_count": 70,
   "id": "330ac614-f91c-4370-9bc6-1f3840c2ca9a",
   "metadata": {},
   "outputs": [
    {
     "name": "stdout",
     "output_type": "stream",
     "text": [
      "0 -> 23\n",
      "1 -> 45\n",
      "2 -> 34\n",
      "0 -> 23\n",
      "4 -> 41\n",
      "5 -> 40\n"
     ]
    }
   ],
   "source": [
    "# index -> value\n",
    "\n",
    "for n in l:\n",
    "    print(l.index(n), '->', n)"
   ]
  },
  {
   "cell_type": "code",
   "execution_count": 78,
   "id": "81244c55-5770-4409-964b-dc7f81bd295f",
   "metadata": {},
   "outputs": [
    {
     "name": "stdout",
     "output_type": "stream",
     "text": [
      "0 -> 23\n",
      "1 -> 45\n",
      "2 -> 34\n",
      "3 -> 23\n",
      "4 -> 41\n",
      "5 -> 40\n"
     ]
    }
   ],
   "source": [
    "for index, val in enumerate(l):\n",
    "    print(index, '->', val)"
   ]
  },
  {
   "cell_type": "code",
   "execution_count": 80,
   "id": "c87c78f9-6d79-45c2-bc1e-02afe3685c93",
   "metadata": {},
   "outputs": [
    {
     "name": "stdout",
     "output_type": "stream",
     "text": [
      "0 -> 23\n",
      "1 -> 45\n",
      "2 -> 34\n",
      "3 -> 23\n",
      "4 -> 41\n",
      "5 -> 40\n",
      "loop ended\n"
     ]
    }
   ],
   "source": [
    "# else keyword\n",
    "\n",
    "for index, val in enumerate(l):\n",
    "    print(index, '->', val)\n",
    "else:\n",
    "    print('loop ended')"
   ]
  },
  {
   "cell_type": "code",
   "execution_count": 82,
   "id": "34a55b27-a01e-4ac2-b590-c9469ee9415b",
   "metadata": {},
   "outputs": [],
   "source": [
    "# loop control statements"
   ]
  },
  {
   "cell_type": "code",
   "execution_count": 84,
   "id": "eebbddc7-6db6-41bb-8ecf-eb2cd5980f55",
   "metadata": {},
   "outputs": [],
   "source": [
    "# break"
   ]
  },
  {
   "cell_type": "code",
   "execution_count": 86,
   "id": "a8948fd2-bc5b-4090-9a1f-062c74bc03f4",
   "metadata": {},
   "outputs": [
    {
     "name": "stdout",
     "output_type": "stream",
     "text": [
      "1\n",
      "2\n",
      "3\n",
      "4\n"
     ]
    }
   ],
   "source": [
    "for i in range(1,11):\n",
    "    if i == 5:\n",
    "        break\n",
    "    else:\n",
    "        print(i)"
   ]
  },
  {
   "cell_type": "code",
   "execution_count": 90,
   "id": "4d4588ca-447e-42e7-a654-103878e35012",
   "metadata": {},
   "outputs": [
    {
     "name": "stdout",
     "output_type": "stream",
     "text": [
      "1\n",
      "2\n",
      "3\n",
      "4\n",
      "5\n"
     ]
    }
   ],
   "source": [
    "for i in range(1,11):\n",
    "    print(i)\n",
    "    if i == 5:\n",
    "        break"
   ]
  },
  {
   "cell_type": "code",
   "execution_count": 92,
   "id": "eb4ad166-6851-4103-b5eb-16a044576c6a",
   "metadata": {},
   "outputs": [],
   "source": [
    "# continue"
   ]
  },
  {
   "cell_type": "code",
   "execution_count": 96,
   "id": "0b8d3bf2-bede-46ac-b48b-7c048d17b8ca",
   "metadata": {},
   "outputs": [
    {
     "name": "stdout",
     "output_type": "stream",
     "text": [
      "1\n",
      "2\n",
      "3\n",
      "4\n",
      "6\n",
      "7\n",
      "8\n",
      "9\n",
      "10\n"
     ]
    }
   ],
   "source": [
    "for i in range(1,11):\n",
    "    if i == 5:\n",
    "        continue\n",
    "    print(i)"
   ]
  },
  {
   "cell_type": "code",
   "execution_count": 100,
   "id": "a22a8d64-09d3-48cd-b2e3-0ebabfba20b4",
   "metadata": {},
   "outputs": [
    {
     "name": "stdout",
     "output_type": "stream",
     "text": [
      "1\n",
      "2\n",
      "3\n",
      "4\n",
      "ok\n",
      "5\n",
      "6\n",
      "7\n",
      "8\n",
      "9\n",
      "10\n"
     ]
    }
   ],
   "source": [
    "for i in range(1,11):\n",
    "    if i == 5:\n",
    "        print('ok')\n",
    "    print(i)"
   ]
  },
  {
   "cell_type": "code",
   "execution_count": 102,
   "id": "a94083ab-302a-4e7d-8c34-5a827b84ef57",
   "metadata": {},
   "outputs": [
    {
     "name": "stdout",
     "output_type": "stream",
     "text": [
      "1 -> a\n",
      "1 -> b\n",
      "2 -> a\n",
      "2 -> b\n",
      "3 -> a\n",
      "3 -> b\n"
     ]
    }
   ],
   "source": [
    "for i in range(1,4):\n",
    "    for j in ['a','b']:\n",
    "        print(i, '->', j)"
   ]
  },
  {
   "cell_type": "code",
   "execution_count": null,
   "id": "bb1bd8d4-5d8d-49e9-b488-5beecc4bd058",
   "metadata": {},
   "outputs": [],
   "source": []
  }
 ],
 "metadata": {
  "kernelspec": {
   "display_name": "Python 3 (ipykernel)",
   "language": "python",
   "name": "python3"
  },
  "language_info": {
   "codemirror_mode": {
    "name": "ipython",
    "version": 3
   },
   "file_extension": ".py",
   "mimetype": "text/x-python",
   "name": "python",
   "nbconvert_exporter": "python",
   "pygments_lexer": "ipython3",
   "version": "3.11.9"
  }
 },
 "nbformat": 4,
 "nbformat_minor": 5
}
